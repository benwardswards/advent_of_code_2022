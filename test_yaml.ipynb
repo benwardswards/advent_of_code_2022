{
 "cells": [
  {
   "cell_type": "code",
   "execution_count": 1,
   "metadata": {},
   "outputs": [],
   "source": [
    "RAWMONKEY = \"\"\"\\\n",
    "Monkey 1:\n",
    "  Starting items: 99, 77, 79\n",
    "  Operation: new = old + 8\n",
    "  Test: divisible by 2\n",
    "    If true: throw to monkey 6\n",
    "    If false: throw to monkey 0\"\"\""
   ]
  },
  {
   "cell_type": "code",
   "execution_count": 19,
   "metadata": {},
   "outputs": [
    {
     "name": "stdout",
     "output_type": "stream",
     "text": [
      "{'Monkey 0': {'Starting items': '74, 73, 57, 77, 74', 'Operation': 'new = old * 11', 'Test': 'divisible by 19', 'If true': 'throw to monkey 6', 'If false': 'throw to monkey 7'}, 'Monkey 1': {'Starting items': '99, 77, 79', 'Operation': 'new = old + 8', 'Test': 'divisible by 2', 'If true': 'throw to monkey 6', 'If false': 'throw to monkey 0'}}\n"
     ]
    }
   ],
   "source": [
    "import yaml\n",
    "with open('ymltest.yml', 'r') as file:\n",
    "    loaded = yaml.safe_load(file)\n",
    "print(loaded)"
   ]
  },
  {
   "cell_type": "code",
   "execution_count": null,
   "metadata": {},
   "outputs": [],
   "source": []
  }
 ],
 "metadata": {
  "kernelspec": {
   "display_name": "fastapi",
   "language": "python",
   "name": "python3"
  },
  "language_info": {
   "codemirror_mode": {
    "name": "ipython",
    "version": 3
   },
   "file_extension": ".py",
   "mimetype": "text/x-python",
   "name": "python",
   "nbconvert_exporter": "python",
   "pygments_lexer": "ipython3",
   "version": "3.10.6"
  },
  "orig_nbformat": 4,
  "vscode": {
   "interpreter": {
    "hash": "e4e1e39e4664e95e14d973c280adcfa914a83d470be5ac0a94b8bd8f3fc29151"
   }
  }
 },
 "nbformat": 4,
 "nbformat_minor": 2
}
