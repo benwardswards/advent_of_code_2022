{
 "cells": [
  {
   "cell_type": "code",
   "execution_count": 17,
   "metadata": {},
   "outputs": [],
   "source": [
    "%load_ext lab_black\n",
    "\n",
    "from pathlib import Path\n",
    "\n",
    "RAWDATA = Path(\"day01.txt\").read_text().split(\"\\n\\n\")\n",
    "# groups"
   ]
  },
  {
   "cell_type": "markdown",
   "metadata": {},
   "source": [
    "# Part 1:\n",
    "\n",
    "Find  the max of the sum of each group."
   ]
  },
  {
   "cell_type": "code",
   "execution_count": 30,
   "metadata": {},
   "outputs": [
    {
     "name": "stdout",
     "output_type": "stream",
     "text": [
      "['1000\\n2000\\n3000', '4000', '5000\\n6000', '7000\\n8000\\n9000', '10000']\n"
     ]
    },
    {
     "data": {
      "text/plain": [
       "(24000, '= 24000')"
      ]
     },
     "execution_count": 30,
     "metadata": {},
     "output_type": "execute_result"
    }
   ],
   "source": [
    "RAWTESTDATA = \"\"\"\\\n",
    "1000\n",
    "2000\n",
    "3000\n",
    "\n",
    "4000\n",
    "\n",
    "5000\n",
    "6000\n",
    "\n",
    "7000\n",
    "8000\n",
    "9000\n",
    "\n",
    "10000\"\"\".split(\n",
    "    \"\\n\\n\"\n",
    ")\n",
    "print(RAWTESTDATA)\n",
    "\n",
    "\n",
    "def max_calories(groups_txt):\n",
    "    calories = [sum(int(item) for item in elf.split(\"\\n\")) for elf in groups_txt]\n",
    "    return max(calories)\n",
    "\n",
    "\n",
    "max_calories(RAWTESTDATA), \"= 24000\""
   ]
  },
  {
   "cell_type": "code",
   "execution_count": 29,
   "metadata": {},
   "outputs": [
    {
     "name": "stdout",
     "output_type": "stream",
     "text": [
      "The sum of three top elves with calories is:\n",
      "72240\n"
     ]
    }
   ],
   "source": [
    "print(\"The sum of three top elves with calories is:\")\n",
    "print(max_calories(RAWDATA))"
   ]
  },
  {
   "cell_type": "markdown",
   "metadata": {},
   "source": [
    "# Part 2:\n",
    "\n",
    "Find the sum of the top 3 with the most calories."
   ]
  },
  {
   "cell_type": "code",
   "execution_count": 27,
   "metadata": {},
   "outputs": [
    {
     "data": {
      "text/plain": [
       "(45000, '= 45000')"
      ]
     },
     "execution_count": 27,
     "metadata": {},
     "output_type": "execute_result"
    }
   ],
   "source": [
    "def max3sumed_calories(groups_txt: list[str]) -> int:\n",
    "    calories = [sum(int(item) for item in elf.split(\"\\n\")) for elf in groups_txt]\n",
    "    calories.sort(reverse=True)\n",
    "    return sum(calories[:3])\n",
    "\n",
    "\n",
    "max3sumed_calories(RAWTESTDATA), \"= 45000\""
   ]
  },
  {
   "cell_type": "code",
   "execution_count": 26,
   "metadata": {},
   "outputs": [
    {
     "data": {
      "text/plain": [
       "210957"
      ]
     },
     "execution_count": 26,
     "metadata": {},
     "output_type": "execute_result"
    }
   ],
   "source": [
    "max3sumed_calories(RAWDATA)"
   ]
  },
  {
   "cell_type": "code",
   "execution_count": null,
   "metadata": {},
   "outputs": [],
   "source": []
  },
  {
   "cell_type": "code",
   "execution_count": null,
   "metadata": {},
   "outputs": [],
   "source": []
  }
 ],
 "metadata": {
  "kernelspec": {
   "display_name": "Python 3.10.6 ('fastapi')",
   "language": "python",
   "name": "python3"
  },
  "language_info": {
   "codemirror_mode": {
    "name": "ipython",
    "version": 3
   },
   "file_extension": ".py",
   "mimetype": "text/x-python",
   "name": "python",
   "nbconvert_exporter": "python",
   "pygments_lexer": "ipython3",
   "version": "3.10.6"
  },
  "orig_nbformat": 4,
  "vscode": {
   "interpreter": {
    "hash": "e4e1e39e4664e95e14d973c280adcfa914a83d470be5ac0a94b8bd8f3fc29151"
   }
  }
 },
 "nbformat": 4,
 "nbformat_minor": 2
}
