{
 "cells": [
  {
   "cell_type": "code",
   "execution_count": 2,
   "metadata": {},
   "outputs": [
    {
     "data": {
      "text/plain": [
       "<bound method InteractiveShell.excepthook of <ipykernel.zmqshell.ZMQInteractiveShell object at 0x7fa6e530f7f0>>"
      ]
     },
     "execution_count": 2,
     "metadata": {},
     "output_type": "execute_result"
    }
   ],
   "source": [
    "%load_ext lab_black\n",
    "from rich import print, traceback\n",
    "from pathlib import Path\n",
    "\n",
    "traceback.install()"
   ]
  },
  {
   "cell_type": "code",
   "execution_count": 4,
   "metadata": {},
   "outputs": [],
   "source": [
    "RAWDATA = Path(\"day03.txt\").read_text()"
   ]
  },
  {
   "cell_type": "code",
   "execution_count": 6,
   "metadata": {},
   "outputs": [
    {
     "data": {
      "text/html": [
       "<pre style=\"white-space:pre;overflow-x:auto;line-height:normal;font-family:Menlo,'DejaVu Sans Mono',consolas,'Courier New',monospace\">vJrwpWtwJgWrhcsFMMfFFhFp\n",
       "jqHRNqRjqzjGDLGLrsFMfFZSrLrFZsSL\n",
       "PmmdzqPrVvPwwTWBwg\n",
       "wMqvLMZHhHMvwLHjbvcjnnSBnvTQFn\n",
       "ttgJtRGJQctTZtZT\n",
       "CrZsJsPPZsGzwwsLwLmpwMDw\n",
       "</pre>\n"
      ],
      "text/plain": [
       "vJrwpWtwJgWrhcsFMMfFFhFp\n",
       "jqHRNqRjqzjGDLGLrsFMfFZSrLrFZsSL\n",
       "PmmdzqPrVvPwwTWBwg\n",
       "wMqvLMZHhHMvwLHjbvcjnnSBnvTQFn\n",
       "ttgJtRGJQctTZtZT\n",
       "CrZsJsPPZsGzwwsLwLmpwMDw\n"
      ]
     },
     "metadata": {},
     "output_type": "display_data"
    }
   ],
   "source": [
    "RAWTESTDATA = \"\"\"\\\n",
    "vJrwpWtwJgWrhcsFMMfFFhFp\n",
    "jqHRNqRjqzjGDLGLrsFMfFZSrLrFZsSL\n",
    "PmmdzqPrVvPwwTWBwg\n",
    "wMqvLMZHhHMvwLHjbvcjnnSBnvTQFn\n",
    "ttgJtRGJQctTZtZT\n",
    "CrZsJsPPZsGzwwsLwLmpwMDw\"\"\"\n",
    "\n",
    "print(RAWTESTDATA)"
   ]
  },
  {
   "cell_type": "code",
   "execution_count": 42,
   "metadata": {},
   "outputs": [],
   "source": [
    "def priority(char):\n",
    "    if char.lower() == char:\n",
    "        return ord(char) - 96\n",
    "    else:\n",
    "        return ord(char) - 64 + 26\n",
    "\n",
    "\n",
    "assert priority(\"a\") == 1\n",
    "assert priority(\"A\") == 27\n",
    "assert priority(\"P\") == 42\n",
    "assert priority(\"L\") == 38"
   ]
  },
  {
   "cell_type": "code",
   "execution_count": 60,
   "metadata": {},
   "outputs": [
    {
     "data": {
      "text/plain": [
       "'a'"
      ]
     },
     "execution_count": 60,
     "metadata": {},
     "output_type": "execute_result"
    }
   ],
   "source": [
    "def letter(rucksack: str) -> str:\n",
    "    length = int(len(rucksack) / 2)\n",
    "    # print(length)\n",
    "    first, second = rucksack[:length], rucksack[(length):]\n",
    "    # print(first, \"-\", second)\n",
    "    item = set(first).intersection(set(second)).pop()\n",
    "    # print(item)\n",
    "    return item\n",
    "\n",
    "\n",
    "def priority_sum(data):\n",
    "    return sum(priority(letter(rucksack)) for rucksack in data.splitlines())\n",
    "\n",
    "\n",
    "assert letter(\"vJrwpWtwJgWrhcsFMMfFFhFp\") == \"p\"\n",
    "letter(\"abac\")"
   ]
  },
  {
   "cell_type": "code",
   "execution_count": 61,
   "metadata": {},
   "outputs": [],
   "source": [
    "assert priority_sum(RAWTESTDATA) == 157"
   ]
  },
  {
   "cell_type": "code",
   "execution_count": 62,
   "metadata": {},
   "outputs": [
    {
     "data": {
      "text/plain": [
       "8153"
      ]
     },
     "execution_count": 62,
     "metadata": {},
     "output_type": "execute_result"
    }
   ],
   "source": [
    "priority_sum(RAWDATA)"
   ]
  },
  {
   "cell_type": "markdown",
   "metadata": {},
   "source": [
    "# Part 2"
   ]
  },
  {
   "cell_type": "code",
   "execution_count": 65,
   "metadata": {},
   "outputs": [
    {
     "data": {
      "text/plain": [
       "70"
      ]
     },
     "execution_count": 65,
     "metadata": {},
     "output_type": "execute_result"
    }
   ],
   "source": [
    "def unique(A, B, C):\n",
    "    out = (set(A).intersection(set(B))).intersection(set(C))\n",
    "    assert len(out) == 1\n",
    "    return out.pop()\n",
    "\n",
    "\n",
    "assert unique(\"abc\", \"adf\", \"agg\") == \"a\"\n",
    "\n",
    "\n",
    "def three_elf_auth(data):\n",
    "    data_list = data.splitlines()\n",
    "    auths = []\n",
    "    for i in range(len(data_list)):\n",
    "        if i % 3 == 0:\n",
    "            a, b, c = data_list[i], data_list[i + 1], data_list[i + 2]\n",
    "            auths.append(unique(a, b, c))\n",
    "    return sum(priority(char) for char in auths)\n",
    "\n",
    "\n",
    "three_elf_auth(RAWTESTDATA)"
   ]
  },
  {
   "cell_type": "code",
   "execution_count": 66,
   "metadata": {},
   "outputs": [
    {
     "data": {
      "text/plain": [
       "2342"
      ]
     },
     "execution_count": 66,
     "metadata": {},
     "output_type": "execute_result"
    }
   ],
   "source": [
    "three_elf_auth(RAWDATA)"
   ]
  },
  {
   "cell_type": "code",
   "execution_count": null,
   "metadata": {},
   "outputs": [],
   "source": []
  }
 ],
 "metadata": {
  "kernelspec": {
   "display_name": "Python 3.10.6 ('fastapi')",
   "language": "python",
   "name": "python3"
  },
  "language_info": {
   "codemirror_mode": {
    "name": "ipython",
    "version": 3
   },
   "file_extension": ".py",
   "mimetype": "text/x-python",
   "name": "python",
   "nbconvert_exporter": "python",
   "pygments_lexer": "ipython3",
   "version": "3.10.6"
  },
  "orig_nbformat": 4,
  "vscode": {
   "interpreter": {
    "hash": "e4e1e39e4664e95e14d973c280adcfa914a83d470be5ac0a94b8bd8f3fc29151"
   }
  }
 },
 "nbformat": 4,
 "nbformat_minor": 2
}
