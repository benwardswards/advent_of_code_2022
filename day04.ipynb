{
 "cells": [
  {
   "cell_type": "code",
   "execution_count": 2,
   "metadata": {},
   "outputs": [
    {
     "data": {
      "text/plain": [
       "<bound method InteractiveShell.excepthook of <ipykernel.zmqshell.ZMQInteractiveShell object at 0x7fd9bc40f8b0>>"
      ]
     },
     "execution_count": 2,
     "metadata": {},
     "output_type": "execute_result"
    }
   ],
   "source": [
    "%load_ext lab_black\n",
    "from rich import print, traceback\n",
    "from pathlib import Path\n",
    "\n",
    "traceback.install()"
   ]
  },
  {
   "cell_type": "code",
   "execution_count": 64,
   "metadata": {},
   "outputs": [
    {
     "data": {
      "text/plain": [
       "2"
      ]
     },
     "execution_count": 64,
     "metadata": {},
     "output_type": "execute_result"
    }
   ],
   "source": [
    "RAWDATA = Path(\"day04.txt\").read_text()\n",
    "RAWTESTDATA = \"\"\"\\\n",
    "2-4,6-8\n",
    "2-3,4-5\n",
    "5-7,7-9\n",
    "2-8,3-7\n",
    "6-6,4-6\n",
    "2-6,4-8\"\"\"\n",
    "\n",
    "\n",
    "def includes_either(linee):\n",
    "    first, second = linee.split(\",\")\n",
    "    first_b, first_e = first.split(\"-\")\n",
    "    second_b, second_e = second.split(\"-\")\n",
    "    cond1 = (int(first_b) <= int(second_b)) and (int(second_e) <= int(first_e))\n",
    "    cond2 = (int(second_b) <= int(first_b)) and (int(first_e) <= int(second_e))\n",
    "    cond = cond1 or cond2\n",
    "    return cond\n",
    "\n",
    "\n",
    "\n",
    "\n",
    "\n",
    "liner = \"59-59,6-56\"\n",
    "\n",
    "includes_either(liner)\n",
    "\n",
    "\n",
    "def number_includes(data):\n",
    "    return sum(includes_either(line_) for line_ in data.splitlines())\n",
    "\n",
    "\n",
    "number_includes(RAWTESTDATA)"
   ]
  },
  {
   "cell_type": "code",
   "execution_count": 63,
   "metadata": {},
   "outputs": [
    {
     "data": {
      "text/plain": [
       "580"
      ]
     },
     "execution_count": 63,
     "metadata": {},
     "output_type": "execute_result"
    }
   ],
   "source": [
    "number_includes(RAWDATA)"
   ]
  },
  {
   "cell_type": "code",
   "execution_count": 78,
   "metadata": {},
   "outputs": [
    {
     "data": {
      "text/plain": [
       "False"
      ]
     },
     "execution_count": 78,
     "metadata": {},
     "output_type": "execute_result"
    }
   ],
   "source": [
    "def overlap_at_all(linee):\n",
    "    first, second = linee.split(\",\")\n",
    "    first_b, first_e = first.split(\"-\")\n",
    "    second_b, second_e = second.split(\"-\")\n",
    "    cond1 = (int(second_b) <= int(first_e)) and (int(first_b) <= int(second_e))\n",
    "    cond2 = (int(first_b) <= int(second_e)) and (int(second_b) <= int(first_e))\n",
    "    # print(cond1, cond2)\n",
    "    cond = cond1 or cond2\n",
    "    return cond\n",
    "\n",
    "\n",
    "def number_includes_any(data):\n",
    "    return sum(overlap_at_all(line_) for line_ in data.splitlines())\n",
    "\n",
    "\n",
    "overlap_at_all(\"2-3,4-4\")"
   ]
  },
  {
   "cell_type": "code",
   "execution_count": 79,
   "metadata": {},
   "outputs": [
    {
     "data": {
      "text/plain": [
       "4"
      ]
     },
     "execution_count": 79,
     "metadata": {},
     "output_type": "execute_result"
    }
   ],
   "source": [
    "number_includes_any(RAWTESTDATA)"
   ]
  },
  {
   "cell_type": "code",
   "execution_count": 80,
   "metadata": {},
   "outputs": [
    {
     "data": {
      "text/plain": [
       "895"
      ]
     },
     "execution_count": 80,
     "metadata": {},
     "output_type": "execute_result"
    }
   ],
   "source": [
    "number_includes_any(RAWDATA)"
   ]
  }
 ],
 "metadata": {
  "kernelspec": {
   "display_name": "Python 3.10.6 ('fastapi')",
   "language": "python",
   "name": "python3"
  },
  "language_info": {
   "codemirror_mode": {
    "name": "ipython",
    "version": 3
   },
   "file_extension": ".py",
   "mimetype": "text/x-python",
   "name": "python",
   "nbconvert_exporter": "python",
   "pygments_lexer": "ipython3",
   "version": "3.10.6"
  },
  "orig_nbformat": 4,
  "vscode": {
   "interpreter": {
    "hash": "e4e1e39e4664e95e14d973c280adcfa914a83d470be5ac0a94b8bd8f3fc29151"
   }
  }
 },
 "nbformat": 4,
 "nbformat_minor": 2
}
