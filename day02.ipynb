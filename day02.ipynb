{
 "cells": [
  {
   "cell_type": "code",
   "execution_count": 1,
   "metadata": {},
   "outputs": [
    {
     "data": {
      "text/plain": [
       "<bound method InteractiveShell.excepthook of <ipykernel.zmqshell.ZMQInteractiveShell object at 0x7f28f65ff820>>"
      ]
     },
     "execution_count": 1,
     "metadata": {},
     "output_type": "execute_result"
    }
   ],
   "source": [
    "%load_ext lab_black\n",
    "from rich import print, traceback\n",
    "from pathlib import Path\n",
    "\n",
    "traceback.install()"
   ]
  },
  {
   "cell_type": "code",
   "execution_count": 14,
   "metadata": {},
   "outputs": [],
   "source": [
    "RAWTESTDATA = \"\"\"A Y\n",
    "B X\n",
    "C Z\"\"\"\n",
    "\n",
    "RAWDATA = Path(\"day02.txt\").read_text()\n",
    "\n",
    "\n",
    "def points(game):\n",
    "    opponent, you = game.split(\" \")\n",
    "    # print(opponent, \",\", you)\n",
    "    points = 0\n",
    "    match you:\n",
    "        case \"X\":\n",
    "            points += 1\n",
    "        case \"Y\":\n",
    "            points += 2\n",
    "        case \"Z\":\n",
    "            points += 3\n",
    "    match opponent, you:\n",
    "        case \"A\", \"X\":\n",
    "            points += 3\n",
    "        case \"A\", \"Y\":\n",
    "            points += 6\n",
    "        case \"A\", \"Z\":\n",
    "            points += 0\n",
    "        case \"B\", \"X\":\n",
    "            points += 0\n",
    "        case \"B\", \"Y\":\n",
    "            points += 3\n",
    "        case \"B\", \"Z\":\n",
    "            points += 6\n",
    "        case \"C\", \"X\":\n",
    "            points += 6\n",
    "        case \"C\", \"Y\":\n",
    "            points += 0\n",
    "        case \"C\", \"Z\":\n",
    "            points += 3\n",
    "    return points\n",
    "\n",
    "\n",
    "assert points(\"A Y\") == 8, points(\"A Y\")\n",
    "assert points(\"B X\") == 1\n",
    "assert points(\"C Z\") == 6\n",
    "\n",
    "\n",
    "def total(data):\n",
    "    return sum(points(game) for game in data.splitlines())\n",
    "\n",
    "\n",
    "assert total(RAWTESTDATA) == 15"
   ]
  },
  {
   "cell_type": "code",
   "execution_count": 15,
   "metadata": {},
   "outputs": [
    {
     "data": {
      "text/plain": [
       "11063"
      ]
     },
     "execution_count": 15,
     "metadata": {},
     "output_type": "execute_result"
    }
   ],
   "source": [
    "total(RAWDATA)"
   ]
  },
  {
   "cell_type": "code",
   "execution_count": null,
   "metadata": {},
   "outputs": [],
   "source": [
    "def win(game: str) -> str:\n",
    "    oppenent, is_win = game.split(\" \")\n",
    "    \n",
    "    match oppenent, is_win:\n",
    "        case \"A\", \"X\": return oppenent+\" \"+\"Z\"\n",
    "        case \"A\", \"Y\": return oppenent+\" \"+\"X\"\n",
    "        case \"A\", \"Z\": return oppenent+\" \"+\"Y\"\n",
    "        case \"B\", \"X\": return oppenent+\" \"+\"X\"\n",
    "        case \"B\", \"Y\": return oppenent+\" \"+\"Y\" \n",
    "        case \"B\", \"Z\": return oppenent+\" \"+\"Z\"\n",
    "        case \"C\", \"X\": return oppenent+\" \"+\"Y\"\n",
    "        case \"C\", \"Y\": return oppenent+\" \"+\"Z\"\n",
    "        case \"C\", \"Z\": return oppenent+\" \"+\"X\" \n",
    "         \n",
    "         \n",
    "         \n",
    "   \n",
    "def total_part2(data):\n",
    "    return sum(points(win(game)) for game in data.splitlines())\n",
    "\n",
    "\n",
    "assert total_part2(RAWTESTDATA) == 12    \n",
    "         \n",
    "         \n",
    "         \n",
    "         "
   ]
  }
 ],
 "metadata": {
  "kernelspec": {
   "display_name": "Python 3.10.6 ('fastapi')",
   "language": "python",
   "name": "python3"
  },
  "language_info": {
   "codemirror_mode": {
    "name": "ipython",
    "version": 3
   },
   "file_extension": ".py",
   "mimetype": "text/x-python",
   "name": "python",
   "nbconvert_exporter": "python",
   "pygments_lexer": "ipython3",
   "version": "3.10.6"
  },
  "orig_nbformat": 4,
  "vscode": {
   "interpreter": {
    "hash": "e4e1e39e4664e95e14d973c280adcfa914a83d470be5ac0a94b8bd8f3fc29151"
   }
  }
 },
 "nbformat": 4,
 "nbformat_minor": 2
}
