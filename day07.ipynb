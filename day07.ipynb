{
 "cells": [
  {
   "cell_type": "code",
   "execution_count": 15,
   "metadata": {},
   "outputs": [
    {
     "name": "stdout",
     "output_type": "stream",
     "text": [
      "The lab_black extension is already loaded. To reload it, use:\n",
      "  %reload_ext lab_black\n"
     ]
    }
   ],
   "source": [
    "%load_ext lab_black\n",
    "from rich import print, traceback\n",
    "from pathlib import Path\n",
    "from dataclasses import dataclass, field\n",
    "from collections import defaultdict\n",
    "\n",
    "traceback.install()\n",
    "\n",
    "RAWDATA = Path(\"day07.txt\").read_text()\n",
    "\n",
    "RAWTESTDATA = \"\"\"\\\n",
    "$ cd /\n",
    "$ ls\n",
    "dir a\n",
    "14848514 b.txt\n",
    "8504156 c.dat\n",
    "dir d\n",
    "$ cd a\n",
    "$ ls\n",
    "dir e\n",
    "29116 f\n",
    "2557 g\n",
    "62596 h.lst\n",
    "$ cd e\n",
    "$ ls\n",
    "584 i\n",
    "$ cd ..\n",
    "$ cd ..\n",
    "$ cd d\n",
    "$ ls\n",
    "4060174 j\n",
    "8033020 d.log\n",
    "5626152 d.ext\n",
    "7214296 k\"\"\""
   ]
  },
  {
   "cell_type": "code",
   "execution_count": 29,
   "metadata": {},
   "outputs": [
    {
     "data": {
      "text/html": [
       "<pre style=\"white-space:pre;overflow-x:auto;line-height:normal;font-family:Menlo,'DejaVu Sans Mono',consolas,'Courier New',monospace\"><span style=\"color: #800080; text-decoration-color: #800080; font-weight: bold\">Command_ls</span><span style=\"font-weight: bold\">(</span><span style=\"color: #808000; text-decoration-color: #808000\">files</span>=<span style=\"font-weight: bold\">{</span><span style=\"color: #008000; text-decoration-color: #008000\">'f'</span>: <span style=\"color: #008080; text-decoration-color: #008080; font-weight: bold\">29116</span>, <span style=\"color: #008000; text-decoration-color: #008000\">'g'</span>: <span style=\"color: #008080; text-decoration-color: #008080; font-weight: bold\">2557</span><span style=\"font-weight: bold\">}</span>, <span style=\"color: #808000; text-decoration-color: #808000\">dirs</span>=<span style=\"font-weight: bold\">[</span><span style=\"color: #008000; text-decoration-color: #008000\">'e'</span><span style=\"font-weight: bold\">])</span>\n",
       "</pre>\n"
      ],
      "text/plain": [
       "\u001b[1;35mCommand_ls\u001b[0m\u001b[1m(\u001b[0m\u001b[33mfiles\u001b[0m=\u001b[1m{\u001b[0m\u001b[32m'f'\u001b[0m: \u001b[1;36m29116\u001b[0m, \u001b[32m'g'\u001b[0m: \u001b[1;36m2557\u001b[0m\u001b[1m}\u001b[0m, \u001b[33mdirs\u001b[0m=\u001b[1m[\u001b[0m\u001b[32m'e'\u001b[0m\u001b[1m]\u001b[0m\u001b[1m)\u001b[0m\n"
      ]
     },
     "metadata": {},
     "output_type": "display_data"
    },
    {
     "data": {
      "text/html": [
       "<pre style=\"white-space:pre;overflow-x:auto;line-height:normal;font-family:Menlo,'DejaVu Sans Mono',consolas,'Courier New',monospace\"><span style=\"color: #800080; text-decoration-color: #800080\">/</span>:self.<span style=\"color: #808000; text-decoration-color: #808000\">size</span>=<span style=\"color: #008080; text-decoration-color: #008080; font-weight: bold\">48381165</span>\n",
       "</pre>\n"
      ],
      "text/plain": [
       "\u001b[35m/\u001b[0m:self.\u001b[33msize\u001b[0m=\u001b[1;36m48381165\u001b[0m\n"
      ]
     },
     "metadata": {},
     "output_type": "display_data"
    },
    {
     "data": {
      "text/html": [
       "<pre style=\"white-space:pre;overflow-x:auto;line-height:normal;font-family:Menlo,'DejaVu Sans Mono',consolas,'Courier New',monospace\">a:self.<span style=\"color: #808000; text-decoration-color: #808000\">size</span>=<span style=\"color: #008080; text-decoration-color: #008080; font-weight: bold\">94853</span>\n",
       "</pre>\n"
      ],
      "text/plain": [
       "a:self.\u001b[33msize\u001b[0m=\u001b[1;36m94853\u001b[0m\n"
      ]
     },
     "metadata": {},
     "output_type": "display_data"
    },
    {
     "data": {
      "text/html": [
       "<pre style=\"white-space:pre;overflow-x:auto;line-height:normal;font-family:Menlo,'DejaVu Sans Mono',consolas,'Courier New',monospace\">e:self.<span style=\"color: #808000; text-decoration-color: #808000\">size</span>=<span style=\"color: #008080; text-decoration-color: #008080; font-weight: bold\">584</span>\n",
       "</pre>\n"
      ],
      "text/plain": [
       "e:self.\u001b[33msize\u001b[0m=\u001b[1;36m584\u001b[0m\n"
      ]
     },
     "metadata": {},
     "output_type": "display_data"
    },
    {
     "data": {
      "text/html": [
       "<pre style=\"white-space:pre;overflow-x:auto;line-height:normal;font-family:Menlo,'DejaVu Sans Mono',consolas,'Courier New',monospace\">d:self.<span style=\"color: #808000; text-decoration-color: #808000\">size</span>=<span style=\"color: #008080; text-decoration-color: #008080; font-weight: bold\">24933642</span>\n",
       "</pre>\n"
      ],
      "text/plain": [
       "d:self.\u001b[33msize\u001b[0m=\u001b[1;36m24933642\u001b[0m\n"
      ]
     },
     "metadata": {},
     "output_type": "display_data"
    },
    {
     "data": {
      "text/html": [
       "<pre style=\"white-space:pre;overflow-x:auto;line-height:normal;font-family:Menlo,'DejaVu Sans Mono',consolas,'Courier New',monospace\"><span style=\"color: #008080; text-decoration-color: #008080; font-weight: bold\">95437</span>\n",
       "</pre>\n"
      ],
      "text/plain": [
       "\u001b[1;36m95437\u001b[0m\n"
      ]
     },
     "metadata": {},
     "output_type": "display_data"
    },
    {
     "data": {
      "text/html": [
       "<pre style=\"white-space:pre;overflow-x:auto;line-height:normal;font-family:Menlo,'DejaVu Sans Mono',consolas,'Courier New',monospace\"><span style=\"font-weight: bold\">{</span><span style=\"color: #008000; text-decoration-color: #008000\">'/'</span>: <span style=\"color: #008080; text-decoration-color: #008080; font-weight: bold\">48381165</span>, <span style=\"color: #008000; text-decoration-color: #008000\">'a'</span>: <span style=\"color: #008080; text-decoration-color: #008080; font-weight: bold\">94853</span>, <span style=\"color: #008000; text-decoration-color: #008000\">'e'</span>: <span style=\"color: #008080; text-decoration-color: #008080; font-weight: bold\">584</span>, <span style=\"color: #008000; text-decoration-color: #008000\">'d'</span>: <span style=\"color: #008080; text-decoration-color: #008080; font-weight: bold\">24933642</span><span style=\"font-weight: bold\">}</span>\n",
       "</pre>\n"
      ],
      "text/plain": [
       "\u001b[1m{\u001b[0m\u001b[32m'/'\u001b[0m: \u001b[1;36m48381165\u001b[0m, \u001b[32m'a'\u001b[0m: \u001b[1;36m94853\u001b[0m, \u001b[32m'e'\u001b[0m: \u001b[1;36m584\u001b[0m, \u001b[32m'd'\u001b[0m: \u001b[1;36m24933642\u001b[0m\u001b[1m}\u001b[0m\n"
      ]
     },
     "metadata": {},
     "output_type": "display_data"
    },
    {
     "data": {
      "text/html": [
       "<pre style=\"white-space:pre;overflow-x:auto;line-height:normal;font-family:Menlo,'DejaVu Sans Mono',consolas,'Courier New',monospace\"><span style=\"color: #808000; text-decoration-color: #808000\">free</span>=<span style=\"color: #008080; text-decoration-color: #008080; font-weight: bold\">21618835</span>,<span style=\"color: #008080; text-decoration-color: #008080; font-weight: bold\">30000000</span>, <span style=\"color: #808000; text-decoration-color: #808000\">freeup</span>=<span style=\"color: #008080; text-decoration-color: #008080; font-weight: bold\">8381165</span>\n",
       "</pre>\n"
      ],
      "text/plain": [
       "\u001b[33mfree\u001b[0m=\u001b[1;36m21618835\u001b[0m,\u001b[1;36m30000000\u001b[0m, \u001b[33mfreeup\u001b[0m=\u001b[1;36m8381165\u001b[0m\n"
      ]
     },
     "metadata": {},
     "output_type": "display_data"
    },
    {
     "data": {
      "text/html": [
       "<pre style=\"white-space:pre;overflow-x:auto;line-height:normal;font-family:Menlo,'DejaVu Sans Mono',consolas,'Courier New',monospace\"><span style=\"color: #008080; text-decoration-color: #008080; font-weight: bold\">24933642</span>\n",
       "</pre>\n"
      ],
      "text/plain": [
       "\u001b[1;36m24933642\u001b[0m\n"
      ]
     },
     "metadata": {},
     "output_type": "display_data"
    }
   ],
   "source": [
    "global values_less_than_100_000\n",
    "global my_tree\n",
    "global size_dict\n",
    "\n",
    "\n",
    "@dataclass\n",
    "class Command_ls:\n",
    "    files: dict[str, int]\n",
    "    dirs: list[str]\n",
    "\n",
    "    def __init__(self, txt: str):\n",
    "        self.files = {}\n",
    "        self.dirs = list()\n",
    "        for line in txt.splitlines():\n",
    "            if line != \"ls\":\n",
    "                first, second = line.split(\" \")\n",
    "                if first == \"dir\":\n",
    "                    self.dirs.append(second)\n",
    "                else:\n",
    "                    self.files[second] = int(first)\n",
    "\n",
    "\n",
    "ls_ouput = \"\"\"dir e\n",
    "29116 f\n",
    "2557 g\"\"\"\n",
    "\n",
    "print(Command_ls(ls_ouput))\n",
    "\n",
    "values_less_than_100_000 = []\n",
    "\n",
    "\n",
    "@dataclass\n",
    "class Dir:\n",
    "    name: str\n",
    "    folders: list[\"Dir\"]\n",
    "    files: dict[str, int]\n",
    "    size: int = 0\n",
    "\n",
    "    def __init__(self, name):\n",
    "        self.total = 0\n",
    "        self.name = name\n",
    "        self.folders = list()\n",
    "        self.files = list()\n",
    "\n",
    "    def walk(self):\n",
    "        if self.size <= 100_000:\n",
    "            # print(f\"{self.name}:{self.size=}\")\n",
    "            values_less_than_100_000.append(self.size)\n",
    "\n",
    "        for fold in self.folders:\n",
    "            fold.walk()\n",
    "\n",
    "    def gets(self):\n",
    "\n",
    "        print(f\"{self.name}:{self.size=}\")\n",
    "        size_dict[self.name] = self.size\n",
    "\n",
    "        for fold in self.folders:\n",
    "            fold.gets()\n",
    "\n",
    "\n",
    "data = RAWTESTDATA.split(\"$ \")[1:]\n",
    "my_data = iter(data)\n",
    "line = next(my_data)\n",
    "my_tree = Dir(\"/\")\n",
    "\n",
    "\n",
    "def buildtree(folder):\n",
    "    try:\n",
    "        line = next(my_data).strip(\"\\n\")\n",
    "    except StopIteration:\n",
    "        folder.size += sum(f.size for f in folder.folders)\n",
    "\n",
    "        return 0\n",
    "\n",
    "    if line.startswith(\"cd\"):\n",
    "        _, flags = line.split(\" \")\n",
    "        if flags == \"..\":\n",
    "            folder.size += sum(f.size for f in folder.folders)\n",
    "            # print(f\"counted the folders in {folder.name} \")\n",
    "\n",
    "            return 0\n",
    "        else:\n",
    "            # cd \"e\"\n",
    "            folder.folders.append(Dir(flags))\n",
    "            buildtree(folder.folders[-1])\n",
    "\n",
    "    elif line.startswith(\"ls\"):\n",
    "        my_command = Command_ls(line)\n",
    "        folder.files = my_command.files\n",
    "        folder.size += sum(folder.files.values())\n",
    "        # folder.folders = my_command.dirs\n",
    "\n",
    "    else:\n",
    "        raise ValueError(\"can't be anything else\")\n",
    "    buildtree(folder)\n",
    "\n",
    "\n",
    "data = RAWTESTDATA.split(\"$ \")[1:]\n",
    "values_less_than_100_000 = []\n",
    "size_dict = {}\n",
    "my_data = iter(data)\n",
    "_ = next(my_data)\n",
    "my_tree = Dir(\"/\")\n",
    "\n",
    "buildtree(my_tree)\n",
    "# print(my_tree)\n",
    "my_tree.walk()\n",
    "my_tree.gets()\n",
    "print(sum(values_less_than_100_000))\n",
    "\n",
    "print(size_dict)\n",
    "# dirs_less_than_100_000(RAWTESTDATA)\n",
    "\n",
    "\n",
    "def next_smallest(my_dict, systemsize=70000000, needed=30000000):\n",
    "    free = systemsize - my_dict[\"/\"]\n",
    "    freeup = needed - free\n",
    "    print(f\"{free=},{needed}, {freeup=}\")\n",
    "    smaller_than_freeup = [size for size in my_dict.values() if size > freeup]\n",
    "    print(f\"{min(smaller_than_freeup)}\")\n",
    "\n",
    "\n",
    "next_smallest(size_dict)"
   ]
  },
  {
   "cell_type": "code",
   "execution_count": 30,
   "metadata": {},
   "outputs": [
    {
     "data": {
      "text/html": [
       "<pre style=\"white-space:pre;overflow-x:auto;line-height:normal;font-family:Menlo,'DejaVu Sans Mono',consolas,'Courier New',monospace\"><span style=\"color: #800080; text-decoration-color: #800080\">/</span>:self.<span style=\"color: #808000; text-decoration-color: #808000\">size</span>=<span style=\"color: #008080; text-decoration-color: #008080; font-weight: bold\">43636666</span>\n",
       "</pre>\n"
      ],
      "text/plain": [
       "\u001b[35m/\u001b[0m:self.\u001b[33msize\u001b[0m=\u001b[1;36m43636666\u001b[0m\n"
      ]
     },
     "metadata": {},
     "output_type": "display_data"
    },
    {
     "data": {
      "text/html": [
       "<pre style=\"white-space:pre;overflow-x:auto;line-height:normal;font-family:Menlo,'DejaVu Sans Mono',consolas,'Courier New',monospace\">blrnnv:self.<span style=\"color: #808000; text-decoration-color: #808000\">size</span>=<span style=\"color: #008080; text-decoration-color: #008080; font-weight: bold\">169869</span>\n",
       "</pre>\n"
      ],
      "text/plain": [
       "blrnnv:self.\u001b[33msize\u001b[0m=\u001b[1;36m169869\u001b[0m\n"
      ]
     },
     "metadata": {},
     "output_type": "display_data"
    },
    {
     "data": {
      "text/html": [
       "<pre style=\"white-space:pre;overflow-x:auto;line-height:normal;font-family:Menlo,'DejaVu Sans Mono',consolas,'Courier New',monospace\">ctfjwl:self.<span style=\"color: #808000; text-decoration-color: #808000\">size</span>=<span style=\"color: #008080; text-decoration-color: #008080; font-weight: bold\">209537</span>\n",
       "</pre>\n"
      ],
      "text/plain": [
       "ctfjwl:self.\u001b[33msize\u001b[0m=\u001b[1;36m209537\u001b[0m\n"
      ]
     },
     "metadata": {},
     "output_type": "display_data"
    },
    {
     "data": {
      "text/html": [
       "<pre style=\"white-space:pre;overflow-x:auto;line-height:normal;font-family:Menlo,'DejaVu Sans Mono',consolas,'Courier New',monospace\">dqf:self.<span style=\"color: #808000; text-decoration-color: #808000\">size</span>=<span style=\"color: #008080; text-decoration-color: #008080; font-weight: bold\">548836</span>\n",
       "</pre>\n"
      ],
      "text/plain": [
       "dqf:self.\u001b[33msize\u001b[0m=\u001b[1;36m548836\u001b[0m\n"
      ]
     },
     "metadata": {},
     "output_type": "display_data"
    },
    {
     "data": {
      "text/html": [
       "<pre style=\"white-space:pre;overflow-x:auto;line-height:normal;font-family:Menlo,'DejaVu Sans Mono',consolas,'Courier New',monospace\">mwj:self.<span style=\"color: #808000; text-decoration-color: #808000\">size</span>=<span style=\"color: #008080; text-decoration-color: #008080; font-weight: bold\">141008</span>\n",
       "</pre>\n"
      ],
      "text/plain": [
       "mwj:self.\u001b[33msize\u001b[0m=\u001b[1;36m141008\u001b[0m\n"
      ]
     },
     "metadata": {},
     "output_type": "display_data"
    },
    {
     "data": {
      "text/html": [
       "<pre style=\"white-space:pre;overflow-x:auto;line-height:normal;font-family:Menlo,'DejaVu Sans Mono',consolas,'Courier New',monospace\">ftj:self.<span style=\"color: #808000; text-decoration-color: #808000\">size</span>=<span style=\"color: #008080; text-decoration-color: #008080; font-weight: bold\">1749433</span>\n",
       "</pre>\n"
      ],
      "text/plain": [
       "ftj:self.\u001b[33msize\u001b[0m=\u001b[1;36m1749433\u001b[0m\n"
      ]
     },
     "metadata": {},
     "output_type": "display_data"
    },
    {
     "data": {
      "text/html": [
       "<pre style=\"white-space:pre;overflow-x:auto;line-height:normal;font-family:Menlo,'DejaVu Sans Mono',consolas,'Courier New',monospace\">clchr:self.<span style=\"color: #808000; text-decoration-color: #808000\">size</span>=<span style=\"color: #008080; text-decoration-color: #008080; font-weight: bold\">257770</span>\n",
       "</pre>\n"
      ],
      "text/plain": [
       "clchr:self.\u001b[33msize\u001b[0m=\u001b[1;36m257770\u001b[0m\n"
      ]
     },
     "metadata": {},
     "output_type": "display_data"
    },
    {
     "data": {
      "text/html": [
       "<pre style=\"white-space:pre;overflow-x:auto;line-height:normal;font-family:Menlo,'DejaVu Sans Mono',consolas,'Courier New',monospace\">sbzf:self.<span style=\"color: #808000; text-decoration-color: #808000\">size</span>=<span style=\"color: #008080; text-decoration-color: #008080; font-weight: bold\">257770</span>\n",
       "</pre>\n"
      ],
      "text/plain": [
       "sbzf:self.\u001b[33msize\u001b[0m=\u001b[1;36m257770\u001b[0m\n"
      ]
     },
     "metadata": {},
     "output_type": "display_data"
    },
    {
     "data": {
      "text/html": [
       "<pre style=\"white-space:pre;overflow-x:auto;line-height:normal;font-family:Menlo,'DejaVu Sans Mono',consolas,'Courier New',monospace\">hmd:self.<span style=\"color: #808000; text-decoration-color: #808000\">size</span>=<span style=\"color: #008080; text-decoration-color: #008080; font-weight: bold\">1451431</span>\n",
       "</pre>\n"
      ],
      "text/plain": [
       "hmd:self.\u001b[33msize\u001b[0m=\u001b[1;36m1451431\u001b[0m\n"
      ]
     },
     "metadata": {},
     "output_type": "display_data"
    },
    {
     "data": {
      "text/html": [
       "<pre style=\"white-space:pre;overflow-x:auto;line-height:normal;font-family:Menlo,'DejaVu Sans Mono',consolas,'Courier New',monospace\">lfpm:self.<span style=\"color: #808000; text-decoration-color: #808000\">size</span>=<span style=\"color: #008080; text-decoration-color: #008080; font-weight: bold\">985654</span>\n",
       "</pre>\n"
      ],
      "text/plain": [
       "lfpm:self.\u001b[33msize\u001b[0m=\u001b[1;36m985654\u001b[0m\n"
      ]
     },
     "metadata": {},
     "output_type": "display_data"
    },
    {
     "data": {
      "text/html": [
       "<pre style=\"white-space:pre;overflow-x:auto;line-height:normal;font-family:Menlo,'DejaVu Sans Mono',consolas,'Courier New',monospace\">vlnbm:self.<span style=\"color: #808000; text-decoration-color: #808000\">size</span>=<span style=\"color: #008080; text-decoration-color: #008080; font-weight: bold\">143113</span>\n",
       "</pre>\n"
      ],
      "text/plain": [
       "vlnbm:self.\u001b[33msize\u001b[0m=\u001b[1;36m143113\u001b[0m\n"
      ]
     },
     "metadata": {},
     "output_type": "display_data"
    },
    {
     "data": {
      "text/html": [
       "<pre style=\"white-space:pre;overflow-x:auto;line-height:normal;font-family:Menlo,'DejaVu Sans Mono',consolas,'Courier New',monospace\">jvtlfbzr:self.<span style=\"color: #808000; text-decoration-color: #808000\">size</span>=<span style=\"color: #008080; text-decoration-color: #008080; font-weight: bold\">18929272</span>\n",
       "</pre>\n"
      ],
      "text/plain": [
       "jvtlfbzr:self.\u001b[33msize\u001b[0m=\u001b[1;36m18929272\u001b[0m\n"
      ]
     },
     "metadata": {},
     "output_type": "display_data"
    },
    {
     "data": {
      "text/html": [
       "<pre style=\"white-space:pre;overflow-x:auto;line-height:normal;font-family:Menlo,'DejaVu Sans Mono',consolas,'Courier New',monospace\">gwz:self.<span style=\"color: #808000; text-decoration-color: #808000\">size</span>=<span style=\"color: #008080; text-decoration-color: #008080; font-weight: bold\">13023723</span>\n",
       "</pre>\n"
      ],
      "text/plain": [
       "gwz:self.\u001b[33msize\u001b[0m=\u001b[1;36m13023723\u001b[0m\n"
      ]
     },
     "metadata": {},
     "output_type": "display_data"
    },
    {
     "data": {
      "text/html": [
       "<pre style=\"white-space:pre;overflow-x:auto;line-height:normal;font-family:Menlo,'DejaVu Sans Mono',consolas,'Courier New',monospace\">jvrdcf:self.<span style=\"color: #808000; text-decoration-color: #808000\">size</span>=<span style=\"color: #008080; text-decoration-color: #008080; font-weight: bold\">5820385</span>\n",
       "</pre>\n"
      ],
      "text/plain": [
       "jvrdcf:self.\u001b[33msize\u001b[0m=\u001b[1;36m5820385\u001b[0m\n"
      ]
     },
     "metadata": {},
     "output_type": "display_data"
    },
    {
     "data": {
      "text/html": [
       "<pre style=\"white-space:pre;overflow-x:auto;line-height:normal;font-family:Menlo,'DejaVu Sans Mono',consolas,'Courier New',monospace\">cbcq:self.<span style=\"color: #808000; text-decoration-color: #808000\">size</span>=<span style=\"color: #008080; text-decoration-color: #008080; font-weight: bold\">1040366</span>\n",
       "</pre>\n"
      ],
      "text/plain": [
       "cbcq:self.\u001b[33msize\u001b[0m=\u001b[1;36m1040366\u001b[0m\n"
      ]
     },
     "metadata": {},
     "output_type": "display_data"
    },
    {
     "data": {
      "text/html": [
       "<pre style=\"white-space:pre;overflow-x:auto;line-height:normal;font-family:Menlo,'DejaVu Sans Mono',consolas,'Courier New',monospace\">hsw:self.<span style=\"color: #808000; text-decoration-color: #808000\">size</span>=<span style=\"color: #008080; text-decoration-color: #008080; font-weight: bold\">31974</span>\n",
       "</pre>\n"
      ],
      "text/plain": [
       "hsw:self.\u001b[33msize\u001b[0m=\u001b[1;36m31974\u001b[0m\n"
      ]
     },
     "metadata": {},
     "output_type": "display_data"
    },
    {
     "data": {
      "text/html": [
       "<pre style=\"white-space:pre;overflow-x:auto;line-height:normal;font-family:Menlo,'DejaVu Sans Mono',consolas,'Courier New',monospace\">rdvfwbw:self.<span style=\"color: #808000; text-decoration-color: #808000\">size</span>=<span style=\"color: #008080; text-decoration-color: #008080; font-weight: bold\">31974</span>\n",
       "</pre>\n"
      ],
      "text/plain": [
       "rdvfwbw:self.\u001b[33msize\u001b[0m=\u001b[1;36m31974\u001b[0m\n"
      ]
     },
     "metadata": {},
     "output_type": "display_data"
    },
    {
     "data": {
      "text/html": [
       "<pre style=\"white-space:pre;overflow-x:auto;line-height:normal;font-family:Menlo,'DejaVu Sans Mono',consolas,'Courier New',monospace\">fthdrqnr:self.<span style=\"color: #808000; text-decoration-color: #808000\">size</span>=<span style=\"color: #008080; text-decoration-color: #008080; font-weight: bold\">31974</span>\n",
       "</pre>\n"
      ],
      "text/plain": [
       "fthdrqnr:self.\u001b[33msize\u001b[0m=\u001b[1;36m31974\u001b[0m\n"
      ]
     },
     "metadata": {},
     "output_type": "display_data"
    },
    {
     "data": {
      "text/html": [
       "<pre style=\"white-space:pre;overflow-x:auto;line-height:normal;font-family:Menlo,'DejaVu Sans Mono',consolas,'Courier New',monospace\">qbpvrr:self.<span style=\"color: #808000; text-decoration-color: #808000\">size</span>=<span style=\"color: #008080; text-decoration-color: #008080; font-weight: bold\">198987</span>\n",
       "</pre>\n"
      ],
      "text/plain": [
       "qbpvrr:self.\u001b[33msize\u001b[0m=\u001b[1;36m198987\u001b[0m\n"
      ]
     },
     "metadata": {},
     "output_type": "display_data"
    },
    {
     "data": {
      "text/html": [
       "<pre style=\"white-space:pre;overflow-x:auto;line-height:normal;font-family:Menlo,'DejaVu Sans Mono',consolas,'Courier New',monospace\">fzjdz:self.<span style=\"color: #808000; text-decoration-color: #808000\">size</span>=<span style=\"color: #008080; text-decoration-color: #008080; font-weight: bold\">333698</span>\n",
       "</pre>\n"
      ],
      "text/plain": [
       "fzjdz:self.\u001b[33msize\u001b[0m=\u001b[1;36m333698\u001b[0m\n"
      ]
     },
     "metadata": {},
     "output_type": "display_data"
    },
    {
     "data": {
      "text/html": [
       "<pre style=\"white-space:pre;overflow-x:auto;line-height:normal;font-family:Menlo,'DejaVu Sans Mono',consolas,'Courier New',monospace\">ghwnd:self.<span style=\"color: #808000; text-decoration-color: #808000\">size</span>=<span style=\"color: #008080; text-decoration-color: #008080; font-weight: bold\">354223</span>\n",
       "</pre>\n"
      ],
      "text/plain": [
       "ghwnd:self.\u001b[33msize\u001b[0m=\u001b[1;36m354223\u001b[0m\n"
      ]
     },
     "metadata": {},
     "output_type": "display_data"
    },
    {
     "data": {
      "text/html": [
       "<pre style=\"white-space:pre;overflow-x:auto;line-height:normal;font-family:Menlo,'DejaVu Sans Mono',consolas,'Courier New',monospace\">gpbhtj:self.<span style=\"color: #808000; text-decoration-color: #808000\">size</span>=<span style=\"color: #008080; text-decoration-color: #008080; font-weight: bold\">1472261</span>\n",
       "</pre>\n"
      ],
      "text/plain": [
       "gpbhtj:self.\u001b[33msize\u001b[0m=\u001b[1;36m1472261\u001b[0m\n"
      ]
     },
     "metadata": {},
     "output_type": "display_data"
    },
    {
     "data": {
      "text/html": [
       "<pre style=\"white-space:pre;overflow-x:auto;line-height:normal;font-family:Menlo,'DejaVu Sans Mono',consolas,'Courier New',monospace\">cvm:self.<span style=\"color: #808000; text-decoration-color: #808000\">size</span>=<span style=\"color: #008080; text-decoration-color: #008080; font-weight: bold\">379765</span>\n",
       "</pre>\n"
      ],
      "text/plain": [
       "cvm:self.\u001b[33msize\u001b[0m=\u001b[1;36m379765\u001b[0m\n"
      ]
     },
     "metadata": {},
     "output_type": "display_data"
    },
    {
     "data": {
      "text/html": [
       "<pre style=\"white-space:pre;overflow-x:auto;line-height:normal;font-family:Menlo,'DejaVu Sans Mono',consolas,'Courier New',monospace\">hsmlb:self.<span style=\"color: #808000; text-decoration-color: #808000\">size</span>=<span style=\"color: #008080; text-decoration-color: #008080; font-weight: bold\">252425</span>\n",
       "</pre>\n"
      ],
      "text/plain": [
       "hsmlb:self.\u001b[33msize\u001b[0m=\u001b[1;36m252425\u001b[0m\n"
      ]
     },
     "metadata": {},
     "output_type": "display_data"
    },
    {
     "data": {
      "text/html": [
       "<pre style=\"white-space:pre;overflow-x:auto;line-height:normal;font-family:Menlo,'DejaVu Sans Mono',consolas,'Courier New',monospace\">mjjj:self.<span style=\"color: #808000; text-decoration-color: #808000\">size</span>=<span style=\"color: #008080; text-decoration-color: #008080; font-weight: bold\">565327</span>\n",
       "</pre>\n"
      ],
      "text/plain": [
       "mjjj:self.\u001b[33msize\u001b[0m=\u001b[1;36m565327\u001b[0m\n"
      ]
     },
     "metadata": {},
     "output_type": "display_data"
    },
    {
     "data": {
      "text/html": [
       "<pre style=\"white-space:pre;overflow-x:auto;line-height:normal;font-family:Menlo,'DejaVu Sans Mono',consolas,'Courier New',monospace\">wdvqhn:self.<span style=\"color: #808000; text-decoration-color: #808000\">size</span>=<span style=\"color: #008080; text-decoration-color: #008080; font-weight: bold\">1432500</span>\n",
       "</pre>\n"
      ],
      "text/plain": [
       "wdvqhn:self.\u001b[33msize\u001b[0m=\u001b[1;36m1432500\u001b[0m\n"
      ]
     },
     "metadata": {},
     "output_type": "display_data"
    },
    {
     "data": {
      "text/html": [
       "<pre style=\"white-space:pre;overflow-x:auto;line-height:normal;font-family:Menlo,'DejaVu Sans Mono',consolas,'Courier New',monospace\">tjgfcs:self.<span style=\"color: #808000; text-decoration-color: #808000\">size</span>=<span style=\"color: #008080; text-decoration-color: #008080; font-weight: bold\">853718</span>\n",
       "</pre>\n"
      ],
      "text/plain": [
       "tjgfcs:self.\u001b[33msize\u001b[0m=\u001b[1;36m853718\u001b[0m\n"
      ]
     },
     "metadata": {},
     "output_type": "display_data"
    },
    {
     "data": {
      "text/html": [
       "<pre style=\"white-space:pre;overflow-x:auto;line-height:normal;font-family:Menlo,'DejaVu Sans Mono',consolas,'Courier New',monospace\">gngb:self.<span style=\"color: #808000; text-decoration-color: #808000\">size</span>=<span style=\"color: #008080; text-decoration-color: #008080; font-weight: bold\">343203</span>\n",
       "</pre>\n"
      ],
      "text/plain": [
       "gngb:self.\u001b[33msize\u001b[0m=\u001b[1;36m343203\u001b[0m\n"
      ]
     },
     "metadata": {},
     "output_type": "display_data"
    },
    {
     "data": {
      "text/html": [
       "<pre style=\"white-space:pre;overflow-x:auto;line-height:normal;font-family:Menlo,'DejaVu Sans Mono',consolas,'Courier New',monospace\">ldcmtwvt:self.<span style=\"color: #808000; text-decoration-color: #808000\">size</span>=<span style=\"color: #008080; text-decoration-color: #008080; font-weight: bold\">6691517</span>\n",
       "</pre>\n"
      ],
      "text/plain": [
       "ldcmtwvt:self.\u001b[33msize\u001b[0m=\u001b[1;36m6691517\u001b[0m\n"
      ]
     },
     "metadata": {},
     "output_type": "display_data"
    },
    {
     "data": {
      "text/html": [
       "<pre style=\"white-space:pre;overflow-x:auto;line-height:normal;font-family:Menlo,'DejaVu Sans Mono',consolas,'Courier New',monospace\">bqmbrr:self.<span style=\"color: #808000; text-decoration-color: #808000\">size</span>=<span style=\"color: #008080; text-decoration-color: #008080; font-weight: bold\">175893</span>\n",
       "</pre>\n"
      ],
      "text/plain": [
       "bqmbrr:self.\u001b[33msize\u001b[0m=\u001b[1;36m175893\u001b[0m\n"
      ]
     },
     "metadata": {},
     "output_type": "display_data"
    },
    {
     "data": {
      "text/html": [
       "<pre style=\"white-space:pre;overflow-x:auto;line-height:normal;font-family:Menlo,'DejaVu Sans Mono',consolas,'Courier New',monospace\">cfcfnspz:self.<span style=\"color: #808000; text-decoration-color: #808000\">size</span>=<span style=\"color: #008080; text-decoration-color: #008080; font-weight: bold\">1845406</span>\n",
       "</pre>\n"
      ],
      "text/plain": [
       "cfcfnspz:self.\u001b[33msize\u001b[0m=\u001b[1;36m1845406\u001b[0m\n"
      ]
     },
     "metadata": {},
     "output_type": "display_data"
    },
    {
     "data": {
      "text/html": [
       "<pre style=\"white-space:pre;overflow-x:auto;line-height:normal;font-family:Menlo,'DejaVu Sans Mono',consolas,'Courier New',monospace\">gmzsn:self.<span style=\"color: #808000; text-decoration-color: #808000\">size</span>=<span style=\"color: #008080; text-decoration-color: #008080; font-weight: bold\">1358152</span>\n",
       "</pre>\n"
      ],
      "text/plain": [
       "gmzsn:self.\u001b[33msize\u001b[0m=\u001b[1;36m1358152\u001b[0m\n"
      ]
     },
     "metadata": {},
     "output_type": "display_data"
    },
    {
     "data": {
      "text/html": [
       "<pre style=\"white-space:pre;overflow-x:auto;line-height:normal;font-family:Menlo,'DejaVu Sans Mono',consolas,'Courier New',monospace\">bddslhrg:self.<span style=\"color: #808000; text-decoration-color: #808000\">size</span>=<span style=\"color: #008080; text-decoration-color: #008080; font-weight: bold\">1358152</span>\n",
       "</pre>\n"
      ],
      "text/plain": [
       "bddslhrg:self.\u001b[33msize\u001b[0m=\u001b[1;36m1358152\u001b[0m\n"
      ]
     },
     "metadata": {},
     "output_type": "display_data"
    },
    {
     "data": {
      "text/html": [
       "<pre style=\"white-space:pre;overflow-x:auto;line-height:normal;font-family:Menlo,'DejaVu Sans Mono',consolas,'Courier New',monospace\">cspptmpm:self.<span style=\"color: #808000; text-decoration-color: #808000\">size</span>=<span style=\"color: #008080; text-decoration-color: #008080; font-weight: bold\">575019</span>\n",
       "</pre>\n"
      ],
      "text/plain": [
       "cspptmpm:self.\u001b[33msize\u001b[0m=\u001b[1;36m575019\u001b[0m\n"
      ]
     },
     "metadata": {},
     "output_type": "display_data"
    },
    {
     "data": {
      "text/html": [
       "<pre style=\"white-space:pre;overflow-x:auto;line-height:normal;font-family:Menlo,'DejaVu Sans Mono',consolas,'Courier New',monospace\">npmh:self.<span style=\"color: #808000; text-decoration-color: #808000\">size</span>=<span style=\"color: #008080; text-decoration-color: #008080; font-weight: bold\">451708</span>\n",
       "</pre>\n"
      ],
      "text/plain": [
       "npmh:self.\u001b[33msize\u001b[0m=\u001b[1;36m451708\u001b[0m\n"
      ]
     },
     "metadata": {},
     "output_type": "display_data"
    },
    {
     "data": {
      "text/html": [
       "<pre style=\"white-space:pre;overflow-x:auto;line-height:normal;font-family:Menlo,'DejaVu Sans Mono',consolas,'Courier New',monospace\">gvrfbt:self.<span style=\"color: #808000; text-decoration-color: #808000\">size</span>=<span style=\"color: #008080; text-decoration-color: #008080; font-weight: bold\">200067</span>\n",
       "</pre>\n"
      ],
      "text/plain": [
       "gvrfbt:self.\u001b[33msize\u001b[0m=\u001b[1;36m200067\u001b[0m\n"
      ]
     },
     "metadata": {},
     "output_type": "display_data"
    },
    {
     "data": {
      "text/html": [
       "<pre style=\"white-space:pre;overflow-x:auto;line-height:normal;font-family:Menlo,'DejaVu Sans Mono',consolas,'Courier New',monospace\">fzjdz:self.<span style=\"color: #808000; text-decoration-color: #808000\">size</span>=<span style=\"color: #008080; text-decoration-color: #008080; font-weight: bold\">2810068</span>\n",
       "</pre>\n"
      ],
      "text/plain": [
       "fzjdz:self.\u001b[33msize\u001b[0m=\u001b[1;36m2810068\u001b[0m\n"
      ]
     },
     "metadata": {},
     "output_type": "display_data"
    },
    {
     "data": {
      "text/html": [
       "<pre style=\"white-space:pre;overflow-x:auto;line-height:normal;font-family:Menlo,'DejaVu Sans Mono',consolas,'Courier New',monospace\">bddslhrg:self.<span style=\"color: #808000; text-decoration-color: #808000\">size</span>=<span style=\"color: #008080; text-decoration-color: #008080; font-weight: bold\">72852</span>\n",
       "</pre>\n"
      ],
      "text/plain": [
       "bddslhrg:self.\u001b[33msize\u001b[0m=\u001b[1;36m72852\u001b[0m\n"
      ]
     },
     "metadata": {},
     "output_type": "display_data"
    },
    {
     "data": {
      "text/html": [
       "<pre style=\"white-space:pre;overflow-x:auto;line-height:normal;font-family:Menlo,'DejaVu Sans Mono',consolas,'Courier New',monospace\">fvqszrj:self.<span style=\"color: #808000; text-decoration-color: #808000\">size</span>=<span style=\"color: #008080; text-decoration-color: #008080; font-weight: bold\">381111</span>\n",
       "</pre>\n"
      ],
      "text/plain": [
       "fvqszrj:self.\u001b[33msize\u001b[0m=\u001b[1;36m381111\u001b[0m\n"
      ]
     },
     "metadata": {},
     "output_type": "display_data"
    },
    {
     "data": {
      "text/html": [
       "<pre style=\"white-space:pre;overflow-x:auto;line-height:normal;font-family:Menlo,'DejaVu Sans Mono',consolas,'Courier New',monospace\">mmzcqr:self.<span style=\"color: #808000; text-decoration-color: #808000\">size</span>=<span style=\"color: #008080; text-decoration-color: #008080; font-weight: bold\">162528</span>\n",
       "</pre>\n"
      ],
      "text/plain": [
       "mmzcqr:self.\u001b[33msize\u001b[0m=\u001b[1;36m162528\u001b[0m\n"
      ]
     },
     "metadata": {},
     "output_type": "display_data"
    },
    {
     "data": {
      "text/html": [
       "<pre style=\"white-space:pre;overflow-x:auto;line-height:normal;font-family:Menlo,'DejaVu Sans Mono',consolas,'Courier New',monospace\">gzfqggrr:self.<span style=\"color: #808000; text-decoration-color: #808000\">size</span>=<span style=\"color: #008080; text-decoration-color: #008080; font-weight: bold\">162528</span>\n",
       "</pre>\n"
      ],
      "text/plain": [
       "gzfqggrr:self.\u001b[33msize\u001b[0m=\u001b[1;36m162528\u001b[0m\n"
      ]
     },
     "metadata": {},
     "output_type": "display_data"
    },
    {
     "data": {
      "text/html": [
       "<pre style=\"white-space:pre;overflow-x:auto;line-height:normal;font-family:Menlo,'DejaVu Sans Mono',consolas,'Courier New',monospace\">vhpqjr:self.<span style=\"color: #808000; text-decoration-color: #808000\">size</span>=<span style=\"color: #008080; text-decoration-color: #008080; font-weight: bold\">194144</span>\n",
       "</pre>\n"
      ],
      "text/plain": [
       "vhpqjr:self.\u001b[33msize\u001b[0m=\u001b[1;36m194144\u001b[0m\n"
      ]
     },
     "metadata": {},
     "output_type": "display_data"
    },
    {
     "data": {
      "text/html": [
       "<pre style=\"white-space:pre;overflow-x:auto;line-height:normal;font-family:Menlo,'DejaVu Sans Mono',consolas,'Courier New',monospace\">gqcdtjzj:self.<span style=\"color: #808000; text-decoration-color: #808000\">size</span>=<span style=\"color: #008080; text-decoration-color: #008080; font-weight: bold\">406008</span>\n",
       "</pre>\n"
      ],
      "text/plain": [
       "gqcdtjzj:self.\u001b[33msize\u001b[0m=\u001b[1;36m406008\u001b[0m\n"
      ]
     },
     "metadata": {},
     "output_type": "display_data"
    },
    {
     "data": {
      "text/html": [
       "<pre style=\"white-space:pre;overflow-x:auto;line-height:normal;font-family:Menlo,'DejaVu Sans Mono',consolas,'Courier New',monospace\">pcfr:self.<span style=\"color: #808000; text-decoration-color: #808000\">size</span>=<span style=\"color: #008080; text-decoration-color: #008080; font-weight: bold\">660154</span>\n",
       "</pre>\n"
      ],
      "text/plain": [
       "pcfr:self.\u001b[33msize\u001b[0m=\u001b[1;36m660154\u001b[0m\n"
      ]
     },
     "metadata": {},
     "output_type": "display_data"
    },
    {
     "data": {
      "text/html": [
       "<pre style=\"white-space:pre;overflow-x:auto;line-height:normal;font-family:Menlo,'DejaVu Sans Mono',consolas,'Courier New',monospace\">dtbws:self.<span style=\"color: #808000; text-decoration-color: #808000\">size</span>=<span style=\"color: #008080; text-decoration-color: #008080; font-weight: bold\">210127</span>\n",
       "</pre>\n"
      ],
      "text/plain": [
       "dtbws:self.\u001b[33msize\u001b[0m=\u001b[1;36m210127\u001b[0m\n"
      ]
     },
     "metadata": {},
     "output_type": "display_data"
    },
    {
     "data": {
      "text/html": [
       "<pre style=\"white-space:pre;overflow-x:auto;line-height:normal;font-family:Menlo,'DejaVu Sans Mono',consolas,'Courier New',monospace\">vwjnsbjm:self.<span style=\"color: #808000; text-decoration-color: #808000\">size</span>=<span style=\"color: #008080; text-decoration-color: #008080; font-weight: bold\">210127</span>\n",
       "</pre>\n"
      ],
      "text/plain": [
       "vwjnsbjm:self.\u001b[33msize\u001b[0m=\u001b[1;36m210127\u001b[0m\n"
      ]
     },
     "metadata": {},
     "output_type": "display_data"
    },
    {
     "data": {
      "text/html": [
       "<pre style=\"white-space:pre;overflow-x:auto;line-height:normal;font-family:Menlo,'DejaVu Sans Mono',consolas,'Courier New',monospace\">qjqjd:self.<span style=\"color: #808000; text-decoration-color: #808000\">size</span>=<span style=\"color: #008080; text-decoration-color: #008080; font-weight: bold\">111458</span>\n",
       "</pre>\n"
      ],
      "text/plain": [
       "qjqjd:self.\u001b[33msize\u001b[0m=\u001b[1;36m111458\u001b[0m\n"
      ]
     },
     "metadata": {},
     "output_type": "display_data"
    },
    {
     "data": {
      "text/html": [
       "<pre style=\"white-space:pre;overflow-x:auto;line-height:normal;font-family:Menlo,'DejaVu Sans Mono',consolas,'Courier New',monospace\">qjsldd:self.<span style=\"color: #808000; text-decoration-color: #808000\">size</span>=<span style=\"color: #008080; text-decoration-color: #008080; font-weight: bold\">261945</span>\n",
       "</pre>\n"
      ],
      "text/plain": [
       "qjsldd:self.\u001b[33msize\u001b[0m=\u001b[1;36m261945\u001b[0m\n"
      ]
     },
     "metadata": {},
     "output_type": "display_data"
    },
    {
     "data": {
      "text/html": [
       "<pre style=\"white-space:pre;overflow-x:auto;line-height:normal;font-family:Menlo,'DejaVu Sans Mono',consolas,'Courier New',monospace\">qbpvrr:self.<span style=\"color: #808000; text-decoration-color: #808000\">size</span>=<span style=\"color: #008080; text-decoration-color: #008080; font-weight: bold\">1039823</span>\n",
       "</pre>\n"
      ],
      "text/plain": [
       "qbpvrr:self.\u001b[33msize\u001b[0m=\u001b[1;36m1039823\u001b[0m\n"
      ]
     },
     "metadata": {},
     "output_type": "display_data"
    },
    {
     "data": {
      "text/html": [
       "<pre style=\"white-space:pre;overflow-x:auto;line-height:normal;font-family:Menlo,'DejaVu Sans Mono',consolas,'Courier New',monospace\">mdvqv:self.<span style=\"color: #808000; text-decoration-color: #808000\">size</span>=<span style=\"color: #008080; text-decoration-color: #008080; font-weight: bold\">414795</span>\n",
       "</pre>\n"
      ],
      "text/plain": [
       "mdvqv:self.\u001b[33msize\u001b[0m=\u001b[1;36m414795\u001b[0m\n"
      ]
     },
     "metadata": {},
     "output_type": "display_data"
    },
    {
     "data": {
      "text/html": [
       "<pre style=\"white-space:pre;overflow-x:auto;line-height:normal;font-family:Menlo,'DejaVu Sans Mono',consolas,'Courier New',monospace\">gvd:self.<span style=\"color: #808000; text-decoration-color: #808000\">size</span>=<span style=\"color: #008080; text-decoration-color: #008080; font-weight: bold\">932967</span>\n",
       "</pre>\n"
      ],
      "text/plain": [
       "gvd:self.\u001b[33msize\u001b[0m=\u001b[1;36m932967\u001b[0m\n"
      ]
     },
     "metadata": {},
     "output_type": "display_data"
    },
    {
     "data": {
      "text/html": [
       "<pre style=\"white-space:pre;overflow-x:auto;line-height:normal;font-family:Menlo,'DejaVu Sans Mono',consolas,'Courier New',monospace\">ntvmrrd:self.<span style=\"color: #808000; text-decoration-color: #808000\">size</span>=<span style=\"color: #008080; text-decoration-color: #008080; font-weight: bold\">46209</span>\n",
       "</pre>\n"
      ],
      "text/plain": [
       "ntvmrrd:self.\u001b[33msize\u001b[0m=\u001b[1;36m46209\u001b[0m\n"
      ]
     },
     "metadata": {},
     "output_type": "display_data"
    },
    {
     "data": {
      "text/html": [
       "<pre style=\"white-space:pre;overflow-x:auto;line-height:normal;font-family:Menlo,'DejaVu Sans Mono',consolas,'Courier New',monospace\">mpqtgd:self.<span style=\"color: #808000; text-decoration-color: #808000\">size</span>=<span style=\"color: #008080; text-decoration-color: #008080; font-weight: bold\">99833</span>\n",
       "</pre>\n"
      ],
      "text/plain": [
       "mpqtgd:self.\u001b[33msize\u001b[0m=\u001b[1;36m99833\u001b[0m\n"
      ]
     },
     "metadata": {},
     "output_type": "display_data"
    },
    {
     "data": {
      "text/html": [
       "<pre style=\"white-space:pre;overflow-x:auto;line-height:normal;font-family:Menlo,'DejaVu Sans Mono',consolas,'Courier New',monospace\">zpct:self.<span style=\"color: #808000; text-decoration-color: #808000\">size</span>=<span style=\"color: #008080; text-decoration-color: #008080; font-weight: bold\">353881</span>\n",
       "</pre>\n"
      ],
      "text/plain": [
       "zpct:self.\u001b[33msize\u001b[0m=\u001b[1;36m353881\u001b[0m\n"
      ]
     },
     "metadata": {},
     "output_type": "display_data"
    },
    {
     "data": {
      "text/html": [
       "<pre style=\"white-space:pre;overflow-x:auto;line-height:normal;font-family:Menlo,'DejaVu Sans Mono',consolas,'Courier New',monospace\">bddslhrg:self.<span style=\"color: #808000; text-decoration-color: #808000\">size</span>=<span style=\"color: #008080; text-decoration-color: #008080; font-weight: bold\">81585</span>\n",
       "</pre>\n"
      ],
      "text/plain": [
       "bddslhrg:self.\u001b[33msize\u001b[0m=\u001b[1;36m81585\u001b[0m\n"
      ]
     },
     "metadata": {},
     "output_type": "display_data"
    },
    {
     "data": {
      "text/html": [
       "<pre style=\"white-space:pre;overflow-x:auto;line-height:normal;font-family:Menlo,'DejaVu Sans Mono',consolas,'Courier New',monospace\">pjm:self.<span style=\"color: #808000; text-decoration-color: #808000\">size</span>=<span style=\"color: #008080; text-decoration-color: #008080; font-weight: bold\">147674</span>\n",
       "</pre>\n"
      ],
      "text/plain": [
       "pjm:self.\u001b[33msize\u001b[0m=\u001b[1;36m147674\u001b[0m\n"
      ]
     },
     "metadata": {},
     "output_type": "display_data"
    },
    {
     "data": {
      "text/html": [
       "<pre style=\"white-space:pre;overflow-x:auto;line-height:normal;font-family:Menlo,'DejaVu Sans Mono',consolas,'Courier New',monospace\">qjj:self.<span style=\"color: #808000; text-decoration-color: #808000\">size</span>=<span style=\"color: #008080; text-decoration-color: #008080; font-weight: bold\">21770</span>\n",
       "</pre>\n"
      ],
      "text/plain": [
       "qjj:self.\u001b[33msize\u001b[0m=\u001b[1;36m21770\u001b[0m\n"
      ]
     },
     "metadata": {},
     "output_type": "display_data"
    },
    {
     "data": {
      "text/html": [
       "<pre style=\"white-space:pre;overflow-x:auto;line-height:normal;font-family:Menlo,'DejaVu Sans Mono',consolas,'Courier New',monospace\">hfftvmw:self.<span style=\"color: #808000; text-decoration-color: #808000\">size</span>=<span style=\"color: #008080; text-decoration-color: #008080; font-weight: bold\">3114410</span>\n",
       "</pre>\n"
      ],
      "text/plain": [
       "hfftvmw:self.\u001b[33msize\u001b[0m=\u001b[1;36m3114410\u001b[0m\n"
      ]
     },
     "metadata": {},
     "output_type": "display_data"
    },
    {
     "data": {
      "text/html": [
       "<pre style=\"white-space:pre;overflow-x:auto;line-height:normal;font-family:Menlo,'DejaVu Sans Mono',consolas,'Courier New',monospace\">bhvzrsv:self.<span style=\"color: #808000; text-decoration-color: #808000\">size</span>=<span style=\"color: #008080; text-decoration-color: #008080; font-weight: bold\">1383343</span>\n",
       "</pre>\n"
      ],
      "text/plain": [
       "bhvzrsv:self.\u001b[33msize\u001b[0m=\u001b[1;36m1383343\u001b[0m\n"
      ]
     },
     "metadata": {},
     "output_type": "display_data"
    },
    {
     "data": {
      "text/html": [
       "<pre style=\"white-space:pre;overflow-x:auto;line-height:normal;font-family:Menlo,'DejaVu Sans Mono',consolas,'Courier New',monospace\">mjjj:self.<span style=\"color: #808000; text-decoration-color: #808000\">size</span>=<span style=\"color: #008080; text-decoration-color: #008080; font-weight: bold\">197237</span>\n",
       "</pre>\n"
      ],
      "text/plain": [
       "mjjj:self.\u001b[33msize\u001b[0m=\u001b[1;36m197237\u001b[0m\n"
      ]
     },
     "metadata": {},
     "output_type": "display_data"
    },
    {
     "data": {
      "text/html": [
       "<pre style=\"white-space:pre;overflow-x:auto;line-height:normal;font-family:Menlo,'DejaVu Sans Mono',consolas,'Courier New',monospace\">mrlvp:self.<span style=\"color: #808000; text-decoration-color: #808000\">size</span>=<span style=\"color: #008080; text-decoration-color: #008080; font-weight: bold\">197237</span>\n",
       "</pre>\n"
      ],
      "text/plain": [
       "mrlvp:self.\u001b[33msize\u001b[0m=\u001b[1;36m197237\u001b[0m\n"
      ]
     },
     "metadata": {},
     "output_type": "display_data"
    },
    {
     "data": {
      "text/html": [
       "<pre style=\"white-space:pre;overflow-x:auto;line-height:normal;font-family:Menlo,'DejaVu Sans Mono',consolas,'Courier New',monospace\">wgf:self.<span style=\"color: #808000; text-decoration-color: #808000\">size</span>=<span style=\"color: #008080; text-decoration-color: #008080; font-weight: bold\">77157</span>\n",
       "</pre>\n"
      ],
      "text/plain": [
       "wgf:self.\u001b[33msize\u001b[0m=\u001b[1;36m77157\u001b[0m\n"
      ]
     },
     "metadata": {},
     "output_type": "display_data"
    },
    {
     "data": {
      "text/html": [
       "<pre style=\"white-space:pre;overflow-x:auto;line-height:normal;font-family:Menlo,'DejaVu Sans Mono',consolas,'Courier New',monospace\">fzjdz:self.<span style=\"color: #808000; text-decoration-color: #808000\">size</span>=<span style=\"color: #008080; text-decoration-color: #008080; font-weight: bold\">923097</span>\n",
       "</pre>\n"
      ],
      "text/plain": [
       "fzjdz:self.\u001b[33msize\u001b[0m=\u001b[1;36m923097\u001b[0m\n"
      ]
     },
     "metadata": {},
     "output_type": "display_data"
    },
    {
     "data": {
      "text/html": [
       "<pre style=\"white-space:pre;overflow-x:auto;line-height:normal;font-family:Menlo,'DejaVu Sans Mono',consolas,'Courier New',monospace\">shrpdcg:self.<span style=\"color: #808000; text-decoration-color: #808000\">size</span>=<span style=\"color: #008080; text-decoration-color: #008080; font-weight: bold\">665316</span>\n",
       "</pre>\n"
      ],
      "text/plain": [
       "shrpdcg:self.\u001b[33msize\u001b[0m=\u001b[1;36m665316\u001b[0m\n"
      ]
     },
     "metadata": {},
     "output_type": "display_data"
    },
    {
     "data": {
      "text/html": [
       "<pre style=\"white-space:pre;overflow-x:auto;line-height:normal;font-family:Menlo,'DejaVu Sans Mono',consolas,'Courier New',monospace\">mbgvdmpp:self.<span style=\"color: #808000; text-decoration-color: #808000\">size</span>=<span style=\"color: #008080; text-decoration-color: #008080; font-weight: bold\">321605</span>\n",
       "</pre>\n"
      ],
      "text/plain": [
       "mbgvdmpp:self.\u001b[33msize\u001b[0m=\u001b[1;36m321605\u001b[0m\n"
      ]
     },
     "metadata": {},
     "output_type": "display_data"
    },
    {
     "data": {
      "text/html": [
       "<pre style=\"white-space:pre;overflow-x:auto;line-height:normal;font-family:Menlo,'DejaVu Sans Mono',consolas,'Courier New',monospace\">tchbjclg:self.<span style=\"color: #808000; text-decoration-color: #808000\">size</span>=<span style=\"color: #008080; text-decoration-color: #008080; font-weight: bold\">113952</span>\n",
       "</pre>\n"
      ],
      "text/plain": [
       "tchbjclg:self.\u001b[33msize\u001b[0m=\u001b[1;36m113952\u001b[0m\n"
      ]
     },
     "metadata": {},
     "output_type": "display_data"
    },
    {
     "data": {
      "text/html": [
       "<pre style=\"white-space:pre;overflow-x:auto;line-height:normal;font-family:Menlo,'DejaVu Sans Mono',consolas,'Courier New',monospace\">jlftgw:self.<span style=\"color: #808000; text-decoration-color: #808000\">size</span>=<span style=\"color: #008080; text-decoration-color: #008080; font-weight: bold\">1372666</span>\n",
       "</pre>\n"
      ],
      "text/plain": [
       "jlftgw:self.\u001b[33msize\u001b[0m=\u001b[1;36m1372666\u001b[0m\n"
      ]
     },
     "metadata": {},
     "output_type": "display_data"
    },
    {
     "data": {
      "text/html": [
       "<pre style=\"white-space:pre;overflow-x:auto;line-height:normal;font-family:Menlo,'DejaVu Sans Mono',consolas,'Courier New',monospace\">bddslhrg:self.<span style=\"color: #808000; text-decoration-color: #808000\">size</span>=<span style=\"color: #008080; text-decoration-color: #008080; font-weight: bold\">78175</span>\n",
       "</pre>\n"
      ],
      "text/plain": [
       "bddslhrg:self.\u001b[33msize\u001b[0m=\u001b[1;36m78175\u001b[0m\n"
      ]
     },
     "metadata": {},
     "output_type": "display_data"
    },
    {
     "data": {
      "text/html": [
       "<pre style=\"white-space:pre;overflow-x:auto;line-height:normal;font-family:Menlo,'DejaVu Sans Mono',consolas,'Courier New',monospace\">dvrb:self.<span style=\"color: #808000; text-decoration-color: #808000\">size</span>=<span style=\"color: #008080; text-decoration-color: #008080; font-weight: bold\">216103</span>\n",
       "</pre>\n"
      ],
      "text/plain": [
       "dvrb:self.\u001b[33msize\u001b[0m=\u001b[1;36m216103\u001b[0m\n"
      ]
     },
     "metadata": {},
     "output_type": "display_data"
    },
    {
     "data": {
      "text/html": [
       "<pre style=\"white-space:pre;overflow-x:auto;line-height:normal;font-family:Menlo,'DejaVu Sans Mono',consolas,'Courier New',monospace\">rcqhb:self.<span style=\"color: #808000; text-decoration-color: #808000\">size</span>=<span style=\"color: #008080; text-decoration-color: #008080; font-weight: bold\">78767</span>\n",
       "</pre>\n"
      ],
      "text/plain": [
       "rcqhb:self.\u001b[33msize\u001b[0m=\u001b[1;36m78767\u001b[0m\n"
      ]
     },
     "metadata": {},
     "output_type": "display_data"
    },
    {
     "data": {
      "text/html": [
       "<pre style=\"white-space:pre;overflow-x:auto;line-height:normal;font-family:Menlo,'DejaVu Sans Mono',consolas,'Courier New',monospace\">pwb:self.<span style=\"color: #808000; text-decoration-color: #808000\">size</span>=<span style=\"color: #008080; text-decoration-color: #008080; font-weight: bold\">39040</span>\n",
       "</pre>\n"
      ],
      "text/plain": [
       "pwb:self.\u001b[33msize\u001b[0m=\u001b[1;36m39040\u001b[0m\n"
      ]
     },
     "metadata": {},
     "output_type": "display_data"
    },
    {
     "data": {
      "text/html": [
       "<pre style=\"white-space:pre;overflow-x:auto;line-height:normal;font-family:Menlo,'DejaVu Sans Mono',consolas,'Courier New',monospace\">wfrjg:self.<span style=\"color: #808000; text-decoration-color: #808000\">size</span>=<span style=\"color: #008080; text-decoration-color: #008080; font-weight: bold\">206877</span>\n",
       "</pre>\n"
      ],
      "text/plain": [
       "wfrjg:self.\u001b[33msize\u001b[0m=\u001b[1;36m206877\u001b[0m\n"
      ]
     },
     "metadata": {},
     "output_type": "display_data"
    },
    {
     "data": {
      "text/html": [
       "<pre style=\"white-space:pre;overflow-x:auto;line-height:normal;font-family:Menlo,'DejaVu Sans Mono',consolas,'Courier New',monospace\">nnpvwtvt:self.<span style=\"color: #808000; text-decoration-color: #808000\">size</span>=<span style=\"color: #008080; text-decoration-color: #008080; font-weight: bold\">1319760</span>\n",
       "</pre>\n"
      ],
      "text/plain": [
       "nnpvwtvt:self.\u001b[33msize\u001b[0m=\u001b[1;36m1319760\u001b[0m\n"
      ]
     },
     "metadata": {},
     "output_type": "display_data"
    },
    {
     "data": {
      "text/html": [
       "<pre style=\"white-space:pre;overflow-x:auto;line-height:normal;font-family:Menlo,'DejaVu Sans Mono',consolas,'Courier New',monospace\">nfdv:self.<span style=\"color: #808000; text-decoration-color: #808000\">size</span>=<span style=\"color: #008080; text-decoration-color: #008080; font-weight: bold\">557360</span>\n",
       "</pre>\n"
      ],
      "text/plain": [
       "nfdv:self.\u001b[33msize\u001b[0m=\u001b[1;36m557360\u001b[0m\n"
      ]
     },
     "metadata": {},
     "output_type": "display_data"
    },
    {
     "data": {
      "text/html": [
       "<pre style=\"white-space:pre;overflow-x:auto;line-height:normal;font-family:Menlo,'DejaVu Sans Mono',consolas,'Courier New',monospace\">fpldng:self.<span style=\"color: #808000; text-decoration-color: #808000\">size</span>=<span style=\"color: #008080; text-decoration-color: #008080; font-weight: bold\">157283</span>\n",
       "</pre>\n"
      ],
      "text/plain": [
       "fpldng:self.\u001b[33msize\u001b[0m=\u001b[1;36m157283\u001b[0m\n"
      ]
     },
     "metadata": {},
     "output_type": "display_data"
    },
    {
     "data": {
      "text/html": [
       "<pre style=\"white-space:pre;overflow-x:auto;line-height:normal;font-family:Menlo,'DejaVu Sans Mono',consolas,'Courier New',monospace\">jhj:self.<span style=\"color: #808000; text-decoration-color: #808000\">size</span>=<span style=\"color: #008080; text-decoration-color: #008080; font-weight: bold\">172487</span>\n",
       "</pre>\n"
      ],
      "text/plain": [
       "jhj:self.\u001b[33msize\u001b[0m=\u001b[1;36m172487\u001b[0m\n"
      ]
     },
     "metadata": {},
     "output_type": "display_data"
    },
    {
     "data": {
      "text/html": [
       "<pre style=\"white-space:pre;overflow-x:auto;line-height:normal;font-family:Menlo,'DejaVu Sans Mono',consolas,'Courier New',monospace\">nmcp:self.<span style=\"color: #808000; text-decoration-color: #808000\">size</span>=<span style=\"color: #008080; text-decoration-color: #008080; font-weight: bold\">273633</span>\n",
       "</pre>\n"
      ],
      "text/plain": [
       "nmcp:self.\u001b[33msize\u001b[0m=\u001b[1;36m273633\u001b[0m\n"
      ]
     },
     "metadata": {},
     "output_type": "display_data"
    },
    {
     "data": {
      "text/html": [
       "<pre style=\"white-space:pre;overflow-x:auto;line-height:normal;font-family:Menlo,'DejaVu Sans Mono',consolas,'Courier New',monospace\">qrzlrt:self.<span style=\"color: #808000; text-decoration-color: #808000\">size</span>=<span style=\"color: #008080; text-decoration-color: #008080; font-weight: bold\">111080</span>\n",
       "</pre>\n"
      ],
      "text/plain": [
       "qrzlrt:self.\u001b[33msize\u001b[0m=\u001b[1;36m111080\u001b[0m\n"
      ]
     },
     "metadata": {},
     "output_type": "display_data"
    },
    {
     "data": {
      "text/html": [
       "<pre style=\"white-space:pre;overflow-x:auto;line-height:normal;font-family:Menlo,'DejaVu Sans Mono',consolas,'Courier New',monospace\">qfstpm:self.<span style=\"color: #808000; text-decoration-color: #808000\">size</span>=<span style=\"color: #008080; text-decoration-color: #008080; font-weight: bold\">345204</span>\n",
       "</pre>\n"
      ],
      "text/plain": [
       "qfstpm:self.\u001b[33msize\u001b[0m=\u001b[1;36m345204\u001b[0m\n"
      ]
     },
     "metadata": {},
     "output_type": "display_data"
    },
    {
     "data": {
      "text/html": [
       "<pre style=\"white-space:pre;overflow-x:auto;line-height:normal;font-family:Menlo,'DejaVu Sans Mono',consolas,'Courier New',monospace\">sbprmc:self.<span style=\"color: #808000; text-decoration-color: #808000\">size</span>=<span style=\"color: #008080; text-decoration-color: #008080; font-weight: bold\">5267342</span>\n",
       "</pre>\n"
      ],
      "text/plain": [
       "sbprmc:self.\u001b[33msize\u001b[0m=\u001b[1;36m5267342\u001b[0m\n"
      ]
     },
     "metadata": {},
     "output_type": "display_data"
    },
    {
     "data": {
      "text/html": [
       "<pre style=\"white-space:pre;overflow-x:auto;line-height:normal;font-family:Menlo,'DejaVu Sans Mono',consolas,'Courier New',monospace\">bddslhrg:self.<span style=\"color: #808000; text-decoration-color: #808000\">size</span>=<span style=\"color: #008080; text-decoration-color: #008080; font-weight: bold\">238260</span>\n",
       "</pre>\n"
      ],
      "text/plain": [
       "bddslhrg:self.\u001b[33msize\u001b[0m=\u001b[1;36m238260\u001b[0m\n"
      ]
     },
     "metadata": {},
     "output_type": "display_data"
    },
    {
     "data": {
      "text/html": [
       "<pre style=\"white-space:pre;overflow-x:auto;line-height:normal;font-family:Menlo,'DejaVu Sans Mono',consolas,'Courier New',monospace\">cddp:self.<span style=\"color: #808000; text-decoration-color: #808000\">size</span>=<span style=\"color: #008080; text-decoration-color: #008080; font-weight: bold\">87685</span>\n",
       "</pre>\n"
      ],
      "text/plain": [
       "cddp:self.\u001b[33msize\u001b[0m=\u001b[1;36m87685\u001b[0m\n"
      ]
     },
     "metadata": {},
     "output_type": "display_data"
    },
    {
     "data": {
      "text/html": [
       "<pre style=\"white-space:pre;overflow-x:auto;line-height:normal;font-family:Menlo,'DejaVu Sans Mono',consolas,'Courier New',monospace\">cpf:self.<span style=\"color: #808000; text-decoration-color: #808000\">size</span>=<span style=\"color: #008080; text-decoration-color: #008080; font-weight: bold\">280711</span>\n",
       "</pre>\n"
      ],
      "text/plain": [
       "cpf:self.\u001b[33msize\u001b[0m=\u001b[1;36m280711\u001b[0m\n"
      ]
     },
     "metadata": {},
     "output_type": "display_data"
    },
    {
     "data": {
      "text/html": [
       "<pre style=\"white-space:pre;overflow-x:auto;line-height:normal;font-family:Menlo,'DejaVu Sans Mono',consolas,'Courier New',monospace\">tchbjclg:self.<span style=\"color: #808000; text-decoration-color: #808000\">size</span>=<span style=\"color: #008080; text-decoration-color: #008080; font-weight: bold\">280711</span>\n",
       "</pre>\n"
      ],
      "text/plain": [
       "tchbjclg:self.\u001b[33msize\u001b[0m=\u001b[1;36m280711\u001b[0m\n"
      ]
     },
     "metadata": {},
     "output_type": "display_data"
    },
    {
     "data": {
      "text/html": [
       "<pre style=\"white-space:pre;overflow-x:auto;line-height:normal;font-family:Menlo,'DejaVu Sans Mono',consolas,'Courier New',monospace\">wjcvfvz:self.<span style=\"color: #808000; text-decoration-color: #808000\">size</span>=<span style=\"color: #008080; text-decoration-color: #008080; font-weight: bold\">280711</span>\n",
       "</pre>\n"
      ],
      "text/plain": [
       "wjcvfvz:self.\u001b[33msize\u001b[0m=\u001b[1;36m280711\u001b[0m\n"
      ]
     },
     "metadata": {},
     "output_type": "display_data"
    },
    {
     "data": {
      "text/html": [
       "<pre style=\"white-space:pre;overflow-x:auto;line-height:normal;font-family:Menlo,'DejaVu Sans Mono',consolas,'Courier New',monospace\">hfns:self.<span style=\"color: #808000; text-decoration-color: #808000\">size</span>=<span style=\"color: #008080; text-decoration-color: #008080; font-weight: bold\">3487907</span>\n",
       "</pre>\n"
      ],
      "text/plain": [
       "hfns:self.\u001b[33msize\u001b[0m=\u001b[1;36m3487907\u001b[0m\n"
      ]
     },
     "metadata": {},
     "output_type": "display_data"
    },
    {
     "data": {
      "text/html": [
       "<pre style=\"white-space:pre;overflow-x:auto;line-height:normal;font-family:Menlo,'DejaVu Sans Mono',consolas,'Courier New',monospace\">bbjnrhf:self.<span style=\"color: #808000; text-decoration-color: #808000\">size</span>=<span style=\"color: #008080; text-decoration-color: #008080; font-weight: bold\">2363840</span>\n",
       "</pre>\n"
      ],
      "text/plain": [
       "bbjnrhf:self.\u001b[33msize\u001b[0m=\u001b[1;36m2363840\u001b[0m\n"
      ]
     },
     "metadata": {},
     "output_type": "display_data"
    },
    {
     "data": {
      "text/html": [
       "<pre style=\"white-space:pre;overflow-x:auto;line-height:normal;font-family:Menlo,'DejaVu Sans Mono',consolas,'Courier New',monospace\">mjjj:self.<span style=\"color: #808000; text-decoration-color: #808000\">size</span>=<span style=\"color: #008080; text-decoration-color: #008080; font-weight: bold\">235980</span>\n",
       "</pre>\n"
      ],
      "text/plain": [
       "mjjj:self.\u001b[33msize\u001b[0m=\u001b[1;36m235980\u001b[0m\n"
      ]
     },
     "metadata": {},
     "output_type": "display_data"
    },
    {
     "data": {
      "text/html": [
       "<pre style=\"white-space:pre;overflow-x:auto;line-height:normal;font-family:Menlo,'DejaVu Sans Mono',consolas,'Courier New',monospace\">hvvh:self.<span style=\"color: #808000; text-decoration-color: #808000\">size</span>=<span style=\"color: #008080; text-decoration-color: #008080; font-weight: bold\">235980</span>\n",
       "</pre>\n"
      ],
      "text/plain": [
       "hvvh:self.\u001b[33msize\u001b[0m=\u001b[1;36m235980\u001b[0m\n"
      ]
     },
     "metadata": {},
     "output_type": "display_data"
    },
    {
     "data": {
      "text/html": [
       "<pre style=\"white-space:pre;overflow-x:auto;line-height:normal;font-family:Menlo,'DejaVu Sans Mono',consolas,'Courier New',monospace\">mwqvvsnt:self.<span style=\"color: #808000; text-decoration-color: #808000\">size</span>=<span style=\"color: #008080; text-decoration-color: #008080; font-weight: bold\">416363</span>\n",
       "</pre>\n"
      ],
      "text/plain": [
       "mwqvvsnt:self.\u001b[33msize\u001b[0m=\u001b[1;36m416363\u001b[0m\n"
      ]
     },
     "metadata": {},
     "output_type": "display_data"
    },
    {
     "data": {
      "text/html": [
       "<pre style=\"white-space:pre;overflow-x:auto;line-height:normal;font-family:Menlo,'DejaVu Sans Mono',consolas,'Courier New',monospace\">qbpvrr:self.<span style=\"color: #808000; text-decoration-color: #808000\">size</span>=<span style=\"color: #008080; text-decoration-color: #008080; font-weight: bold\">184310</span>\n",
       "</pre>\n"
      ],
      "text/plain": [
       "qbpvrr:self.\u001b[33msize\u001b[0m=\u001b[1;36m184310\u001b[0m\n"
      ]
     },
     "metadata": {},
     "output_type": "display_data"
    },
    {
     "data": {
      "text/html": [
       "<pre style=\"white-space:pre;overflow-x:auto;line-height:normal;font-family:Menlo,'DejaVu Sans Mono',consolas,'Courier New',monospace\">gpc:self.<span style=\"color: #808000; text-decoration-color: #808000\">size</span>=<span style=\"color: #008080; text-decoration-color: #008080; font-weight: bold\">184310</span>\n",
       "</pre>\n"
      ],
      "text/plain": [
       "gpc:self.\u001b[33msize\u001b[0m=\u001b[1;36m184310\u001b[0m\n"
      ]
     },
     "metadata": {},
     "output_type": "display_data"
    },
    {
     "data": {
      "text/html": [
       "<pre style=\"white-space:pre;overflow-x:auto;line-height:normal;font-family:Menlo,'DejaVu Sans Mono',consolas,'Courier New',monospace\">qtdmwqcj:self.<span style=\"color: #808000; text-decoration-color: #808000\">size</span>=<span style=\"color: #008080; text-decoration-color: #008080; font-weight: bold\">699891</span>\n",
       "</pre>\n"
      ],
      "text/plain": [
       "qtdmwqcj:self.\u001b[33msize\u001b[0m=\u001b[1;36m699891\u001b[0m\n"
      ]
     },
     "metadata": {},
     "output_type": "display_data"
    },
    {
     "data": {
      "text/html": [
       "<pre style=\"white-space:pre;overflow-x:auto;line-height:normal;font-family:Menlo,'DejaVu Sans Mono',consolas,'Courier New',monospace\">lvcjcglg:self.<span style=\"color: #808000; text-decoration-color: #808000\">size</span>=<span style=\"color: #008080; text-decoration-color: #008080; font-weight: bold\">225027</span>\n",
       "</pre>\n"
      ],
      "text/plain": [
       "lvcjcglg:self.\u001b[33msize\u001b[0m=\u001b[1;36m225027\u001b[0m\n"
      ]
     },
     "metadata": {},
     "output_type": "display_data"
    },
    {
     "data": {
      "text/html": [
       "<pre style=\"white-space:pre;overflow-x:auto;line-height:normal;font-family:Menlo,'DejaVu Sans Mono',consolas,'Courier New',monospace\">vvwb:self.<span style=\"color: #808000; text-decoration-color: #808000\">size</span>=<span style=\"color: #008080; text-decoration-color: #008080; font-weight: bold\">340821</span>\n",
       "</pre>\n"
      ],
      "text/plain": [
       "vvwb:self.\u001b[33msize\u001b[0m=\u001b[1;36m340821\u001b[0m\n"
      ]
     },
     "metadata": {},
     "output_type": "display_data"
    },
    {
     "data": {
      "text/html": [
       "<pre style=\"white-space:pre;overflow-x:auto;line-height:normal;font-family:Menlo,'DejaVu Sans Mono',consolas,'Courier New',monospace\">cvjtpc:self.<span style=\"color: #808000; text-decoration-color: #808000\">size</span>=<span style=\"color: #008080; text-decoration-color: #008080; font-weight: bold\">408383</span>\n",
       "</pre>\n"
      ],
      "text/plain": [
       "cvjtpc:self.\u001b[33msize\u001b[0m=\u001b[1;36m408383\u001b[0m\n"
      ]
     },
     "metadata": {},
     "output_type": "display_data"
    },
    {
     "data": {
      "text/html": [
       "<pre style=\"white-space:pre;overflow-x:auto;line-height:normal;font-family:Menlo,'DejaVu Sans Mono',consolas,'Courier New',monospace\">whqnlc:self.<span style=\"color: #808000; text-decoration-color: #808000\">size</span>=<span style=\"color: #008080; text-decoration-color: #008080; font-weight: bold\">408383</span>\n",
       "</pre>\n"
      ],
      "text/plain": [
       "whqnlc:self.\u001b[33msize\u001b[0m=\u001b[1;36m408383\u001b[0m\n"
      ]
     },
     "metadata": {},
     "output_type": "display_data"
    },
    {
     "data": {
      "text/html": [
       "<pre style=\"white-space:pre;overflow-x:auto;line-height:normal;font-family:Menlo,'DejaVu Sans Mono',consolas,'Courier New',monospace\">tchbjclg:self.<span style=\"color: #808000; text-decoration-color: #808000\">size</span>=<span style=\"color: #008080; text-decoration-color: #008080; font-weight: bold\">227846</span>\n",
       "</pre>\n"
      ],
      "text/plain": [
       "tchbjclg:self.\u001b[33msize\u001b[0m=\u001b[1;36m227846\u001b[0m\n"
      ]
     },
     "metadata": {},
     "output_type": "display_data"
    },
    {
     "data": {
      "text/html": [
       "<pre style=\"white-space:pre;overflow-x:auto;line-height:normal;font-family:Menlo,'DejaVu Sans Mono',consolas,'Courier New',monospace\">zhw:self.<span style=\"color: #808000; text-decoration-color: #808000\">size</span>=<span style=\"color: #008080; text-decoration-color: #008080; font-weight: bold\">114175</span>\n",
       "</pre>\n"
      ],
      "text/plain": [
       "zhw:self.\u001b[33msize\u001b[0m=\u001b[1;36m114175\u001b[0m\n"
      ]
     },
     "metadata": {},
     "output_type": "display_data"
    },
    {
     "data": {
      "text/html": [
       "<pre style=\"white-space:pre;overflow-x:auto;line-height:normal;font-family:Menlo,'DejaVu Sans Mono',consolas,'Courier New',monospace\">bgwcrp:self.<span style=\"color: #808000; text-decoration-color: #808000\">size</span>=<span style=\"color: #008080; text-decoration-color: #008080; font-weight: bold\">114175</span>\n",
       "</pre>\n"
      ],
      "text/plain": [
       "bgwcrp:self.\u001b[33msize\u001b[0m=\u001b[1;36m114175\u001b[0m\n"
      ]
     },
     "metadata": {},
     "output_type": "display_data"
    },
    {
     "data": {
      "text/html": [
       "<pre style=\"white-space:pre;overflow-x:auto;line-height:normal;font-family:Menlo,'DejaVu Sans Mono',consolas,'Courier New',monospace\">gdlqtlv:self.<span style=\"color: #808000; text-decoration-color: #808000\">size</span>=<span style=\"color: #008080; text-decoration-color: #008080; font-weight: bold\">162602</span>\n",
       "</pre>\n"
      ],
      "text/plain": [
       "gdlqtlv:self.\u001b[33msize\u001b[0m=\u001b[1;36m162602\u001b[0m\n"
      ]
     },
     "metadata": {},
     "output_type": "display_data"
    },
    {
     "data": {
      "text/html": [
       "<pre style=\"white-space:pre;overflow-x:auto;line-height:normal;font-family:Menlo,'DejaVu Sans Mono',consolas,'Courier New',monospace\">qbpvrr:self.<span style=\"color: #808000; text-decoration-color: #808000\">size</span>=<span style=\"color: #008080; text-decoration-color: #008080; font-weight: bold\">343106</span>\n",
       "</pre>\n"
      ],
      "text/plain": [
       "qbpvrr:self.\u001b[33msize\u001b[0m=\u001b[1;36m343106\u001b[0m\n"
      ]
     },
     "metadata": {},
     "output_type": "display_data"
    },
    {
     "data": {
      "text/html": [
       "<pre style=\"white-space:pre;overflow-x:auto;line-height:normal;font-family:Menlo,'DejaVu Sans Mono',consolas,'Courier New',monospace\">srjpcj:self.<span style=\"color: #808000; text-decoration-color: #808000\">size</span>=<span style=\"color: #008080; text-decoration-color: #008080; font-weight: bold\">338909</span>\n",
       "</pre>\n"
      ],
      "text/plain": [
       "srjpcj:self.\u001b[33msize\u001b[0m=\u001b[1;36m338909\u001b[0m\n"
      ]
     },
     "metadata": {},
     "output_type": "display_data"
    },
    {
     "data": {
      "text/html": [
       "<pre style=\"white-space:pre;overflow-x:auto;line-height:normal;font-family:Menlo,'DejaVu Sans Mono',consolas,'Courier New',monospace\">svbnljr:self.<span style=\"color: #808000; text-decoration-color: #808000\">size</span>=<span style=\"color: #008080; text-decoration-color: #008080; font-weight: bold\">286919</span>\n",
       "</pre>\n"
      ],
      "text/plain": [
       "svbnljr:self.\u001b[33msize\u001b[0m=\u001b[1;36m286919\u001b[0m\n"
      ]
     },
     "metadata": {},
     "output_type": "display_data"
    },
    {
     "data": {
      "text/html": [
       "<pre style=\"white-space:pre;overflow-x:auto;line-height:normal;font-family:Menlo,'DejaVu Sans Mono',consolas,'Courier New',monospace\">tchbjclg:self.<span style=\"color: #808000; text-decoration-color: #808000\">size</span>=<span style=\"color: #008080; text-decoration-color: #008080; font-weight: bold\">15644437</span>\n",
       "</pre>\n"
      ],
      "text/plain": [
       "tchbjclg:self.\u001b[33msize\u001b[0m=\u001b[1;36m15644437\u001b[0m\n"
      ]
     },
     "metadata": {},
     "output_type": "display_data"
    },
    {
     "data": {
      "text/html": [
       "<pre style=\"white-space:pre;overflow-x:auto;line-height:normal;font-family:Menlo,'DejaVu Sans Mono',consolas,'Courier New',monospace\">bljmjwm:self.<span style=\"color: #808000; text-decoration-color: #808000\">size</span>=<span style=\"color: #008080; text-decoration-color: #008080; font-weight: bold\">11734583</span>\n",
       "</pre>\n"
      ],
      "text/plain": [
       "bljmjwm:self.\u001b[33msize\u001b[0m=\u001b[1;36m11734583\u001b[0m\n"
      ]
     },
     "metadata": {},
     "output_type": "display_data"
    },
    {
     "data": {
      "text/html": [
       "<pre style=\"white-space:pre;overflow-x:auto;line-height:normal;font-family:Menlo,'DejaVu Sans Mono',consolas,'Courier New',monospace\">cqtmhzbf:self.<span style=\"color: #808000; text-decoration-color: #808000\">size</span>=<span style=\"color: #008080; text-decoration-color: #008080; font-weight: bold\">1234267</span>\n",
       "</pre>\n"
      ],
      "text/plain": [
       "cqtmhzbf:self.\u001b[33msize\u001b[0m=\u001b[1;36m1234267\u001b[0m\n"
      ]
     },
     "metadata": {},
     "output_type": "display_data"
    },
    {
     "data": {
      "text/html": [
       "<pre style=\"white-space:pre;overflow-x:auto;line-height:normal;font-family:Menlo,'DejaVu Sans Mono',consolas,'Courier New',monospace\">mmbgqlm:self.<span style=\"color: #808000; text-decoration-color: #808000\">size</span>=<span style=\"color: #008080; text-decoration-color: #008080; font-weight: bold\">119083</span>\n",
       "</pre>\n"
      ],
      "text/plain": [
       "mmbgqlm:self.\u001b[33msize\u001b[0m=\u001b[1;36m119083\u001b[0m\n"
      ]
     },
     "metadata": {},
     "output_type": "display_data"
    },
    {
     "data": {
      "text/html": [
       "<pre style=\"white-space:pre;overflow-x:auto;line-height:normal;font-family:Menlo,'DejaVu Sans Mono',consolas,'Courier New',monospace\">ztcbmbw:self.<span style=\"color: #808000; text-decoration-color: #808000\">size</span>=<span style=\"color: #008080; text-decoration-color: #008080; font-weight: bold\">964426</span>\n",
       "</pre>\n"
      ],
      "text/plain": [
       "ztcbmbw:self.\u001b[33msize\u001b[0m=\u001b[1;36m964426\u001b[0m\n"
      ]
     },
     "metadata": {},
     "output_type": "display_data"
    },
    {
     "data": {
      "text/html": [
       "<pre style=\"white-space:pre;overflow-x:auto;line-height:normal;font-family:Menlo,'DejaVu Sans Mono',consolas,'Courier New',monospace\">cmwwg:self.<span style=\"color: #808000; text-decoration-color: #808000\">size</span>=<span style=\"color: #008080; text-decoration-color: #008080; font-weight: bold\">926000</span>\n",
       "</pre>\n"
      ],
      "text/plain": [
       "cmwwg:self.\u001b[33msize\u001b[0m=\u001b[1;36m926000\u001b[0m\n"
      ]
     },
     "metadata": {},
     "output_type": "display_data"
    },
    {
     "data": {
      "text/html": [
       "<pre style=\"white-space:pre;overflow-x:auto;line-height:normal;font-family:Menlo,'DejaVu Sans Mono',consolas,'Courier New',monospace\">dbvnwz:self.<span style=\"color: #808000; text-decoration-color: #808000\">size</span>=<span style=\"color: #008080; text-decoration-color: #008080; font-weight: bold\">217821</span>\n",
       "</pre>\n"
      ],
      "text/plain": [
       "dbvnwz:self.\u001b[33msize\u001b[0m=\u001b[1;36m217821\u001b[0m\n"
      ]
     },
     "metadata": {},
     "output_type": "display_data"
    },
    {
     "data": {
      "text/html": [
       "<pre style=\"white-space:pre;overflow-x:auto;line-height:normal;font-family:Menlo,'DejaVu Sans Mono',consolas,'Courier New',monospace\">tchbjclg:self.<span style=\"color: #808000; text-decoration-color: #808000\">size</span>=<span style=\"color: #008080; text-decoration-color: #008080; font-weight: bold\">451321</span>\n",
       "</pre>\n"
      ],
      "text/plain": [
       "tchbjclg:self.\u001b[33msize\u001b[0m=\u001b[1;36m451321\u001b[0m\n"
      ]
     },
     "metadata": {},
     "output_type": "display_data"
    },
    {
     "data": {
      "text/html": [
       "<pre style=\"white-space:pre;overflow-x:auto;line-height:normal;font-family:Menlo,'DejaVu Sans Mono',consolas,'Courier New',monospace\">tpdtglwp:self.<span style=\"color: #808000; text-decoration-color: #808000\">size</span>=<span style=\"color: #008080; text-decoration-color: #008080; font-weight: bold\">287567</span>\n",
       "</pre>\n"
      ],
      "text/plain": [
       "tpdtglwp:self.\u001b[33msize\u001b[0m=\u001b[1;36m287567\u001b[0m\n"
      ]
     },
     "metadata": {},
     "output_type": "display_data"
    },
    {
     "data": {
      "text/html": [
       "<pre style=\"white-space:pre;overflow-x:auto;line-height:normal;font-family:Menlo,'DejaVu Sans Mono',consolas,'Courier New',monospace\">stgmndfd:self.<span style=\"color: #808000; text-decoration-color: #808000\">size</span>=<span style=\"color: #008080; text-decoration-color: #008080; font-weight: bold\">38426</span>\n",
       "</pre>\n"
      ],
      "text/plain": [
       "stgmndfd:self.\u001b[33msize\u001b[0m=\u001b[1;36m38426\u001b[0m\n"
      ]
     },
     "metadata": {},
     "output_type": "display_data"
    },
    {
     "data": {
      "text/html": [
       "<pre style=\"white-space:pre;overflow-x:auto;line-height:normal;font-family:Menlo,'DejaVu Sans Mono',consolas,'Courier New',monospace\">mfpcdbg:self.<span style=\"color: #808000; text-decoration-color: #808000\">size</span>=<span style=\"color: #008080; text-decoration-color: #008080; font-weight: bold\">2675259</span>\n",
       "</pre>\n"
      ],
      "text/plain": [
       "mfpcdbg:self.\u001b[33msize\u001b[0m=\u001b[1;36m2675259\u001b[0m\n"
      ]
     },
     "metadata": {},
     "output_type": "display_data"
    },
    {
     "data": {
      "text/html": [
       "<pre style=\"white-space:pre;overflow-x:auto;line-height:normal;font-family:Menlo,'DejaVu Sans Mono',consolas,'Courier New',monospace\">trjgzcj:self.<span style=\"color: #808000; text-decoration-color: #808000\">size</span>=<span style=\"color: #008080; text-decoration-color: #008080; font-weight: bold\">2675259</span>\n",
       "</pre>\n"
      ],
      "text/plain": [
       "trjgzcj:self.\u001b[33msize\u001b[0m=\u001b[1;36m2675259\u001b[0m\n"
      ]
     },
     "metadata": {},
     "output_type": "display_data"
    },
    {
     "data": {
      "text/html": [
       "<pre style=\"white-space:pre;overflow-x:auto;line-height:normal;font-family:Menlo,'DejaVu Sans Mono',consolas,'Courier New',monospace\">hngr:self.<span style=\"color: #808000; text-decoration-color: #808000\">size</span>=<span style=\"color: #008080; text-decoration-color: #008080; font-weight: bold\">1625701</span>\n",
       "</pre>\n"
      ],
      "text/plain": [
       "hngr:self.\u001b[33msize\u001b[0m=\u001b[1;36m1625701\u001b[0m\n"
      ]
     },
     "metadata": {},
     "output_type": "display_data"
    },
    {
     "data": {
      "text/html": [
       "<pre style=\"white-space:pre;overflow-x:auto;line-height:normal;font-family:Menlo,'DejaVu Sans Mono',consolas,'Courier New',monospace\">tchbjclg:self.<span style=\"color: #808000; text-decoration-color: #808000\">size</span>=<span style=\"color: #008080; text-decoration-color: #008080; font-weight: bold\">1238189</span>\n",
       "</pre>\n"
      ],
      "text/plain": [
       "tchbjclg:self.\u001b[33msize\u001b[0m=\u001b[1;36m1238189\u001b[0m\n"
      ]
     },
     "metadata": {},
     "output_type": "display_data"
    },
    {
     "data": {
      "text/html": [
       "<pre style=\"white-space:pre;overflow-x:auto;line-height:normal;font-family:Menlo,'DejaVu Sans Mono',consolas,'Courier New',monospace\">fhsgvttf:self.<span style=\"color: #808000; text-decoration-color: #808000\">size</span>=<span style=\"color: #008080; text-decoration-color: #008080; font-weight: bold\">56727</span>\n",
       "</pre>\n"
      ],
      "text/plain": [
       "fhsgvttf:self.\u001b[33msize\u001b[0m=\u001b[1;36m56727\u001b[0m\n"
      ]
     },
     "metadata": {},
     "output_type": "display_data"
    },
    {
     "data": {
      "text/html": [
       "<pre style=\"white-space:pre;overflow-x:auto;line-height:normal;font-family:Menlo,'DejaVu Sans Mono',consolas,'Courier New',monospace\">nzpcvjhp:self.<span style=\"color: #808000; text-decoration-color: #808000\">size</span>=<span style=\"color: #008080; text-decoration-color: #008080; font-weight: bold\">352746</span>\n",
       "</pre>\n"
      ],
      "text/plain": [
       "nzpcvjhp:self.\u001b[33msize\u001b[0m=\u001b[1;36m352746\u001b[0m\n"
      ]
     },
     "metadata": {},
     "output_type": "display_data"
    },
    {
     "data": {
      "text/html": [
       "<pre style=\"white-space:pre;overflow-x:auto;line-height:normal;font-family:Menlo,'DejaVu Sans Mono',consolas,'Courier New',monospace\">bddslhrg:self.<span style=\"color: #808000; text-decoration-color: #808000\">size</span>=<span style=\"color: #008080; text-decoration-color: #008080; font-weight: bold\">242433</span>\n",
       "</pre>\n"
      ],
      "text/plain": [
       "bddslhrg:self.\u001b[33msize\u001b[0m=\u001b[1;36m242433\u001b[0m\n"
      ]
     },
     "metadata": {},
     "output_type": "display_data"
    },
    {
     "data": {
      "text/html": [
       "<pre style=\"white-space:pre;overflow-x:auto;line-height:normal;font-family:Menlo,'DejaVu Sans Mono',consolas,'Courier New',monospace\">blhrls:self.<span style=\"color: #808000; text-decoration-color: #808000\">size</span>=<span style=\"color: #008080; text-decoration-color: #008080; font-weight: bold\">110313</span>\n",
       "</pre>\n"
      ],
      "text/plain": [
       "blhrls:self.\u001b[33msize\u001b[0m=\u001b[1;36m110313\u001b[0m\n"
      ]
     },
     "metadata": {},
     "output_type": "display_data"
    },
    {
     "data": {
      "text/html": [
       "<pre style=\"white-space:pre;overflow-x:auto;line-height:normal;font-family:Menlo,'DejaVu Sans Mono',consolas,'Courier New',monospace\">tpqrqtqj:self.<span style=\"color: #808000; text-decoration-color: #808000\">size</span>=<span style=\"color: #008080; text-decoration-color: #008080; font-weight: bold\">575585</span>\n",
       "</pre>\n"
      ],
      "text/plain": [
       "tpqrqtqj:self.\u001b[33msize\u001b[0m=\u001b[1;36m575585\u001b[0m\n"
      ]
     },
     "metadata": {},
     "output_type": "display_data"
    },
    {
     "data": {
      "text/html": [
       "<pre style=\"white-space:pre;overflow-x:auto;line-height:normal;font-family:Menlo,'DejaVu Sans Mono',consolas,'Courier New',monospace\">dfjmpvj:self.<span style=\"color: #808000; text-decoration-color: #808000\">size</span>=<span style=\"color: #008080; text-decoration-color: #008080; font-weight: bold\">174485</span>\n",
       "</pre>\n"
      ],
      "text/plain": [
       "dfjmpvj:self.\u001b[33msize\u001b[0m=\u001b[1;36m174485\u001b[0m\n"
      ]
     },
     "metadata": {},
     "output_type": "display_data"
    },
    {
     "data": {
      "text/html": [
       "<pre style=\"white-space:pre;overflow-x:auto;line-height:normal;font-family:Menlo,'DejaVu Sans Mono',consolas,'Courier New',monospace\">mjjj:self.<span style=\"color: #808000; text-decoration-color: #808000\">size</span>=<span style=\"color: #008080; text-decoration-color: #008080; font-weight: bold\">111397</span>\n",
       "</pre>\n"
      ],
      "text/plain": [
       "mjjj:self.\u001b[33msize\u001b[0m=\u001b[1;36m111397\u001b[0m\n"
      ]
     },
     "metadata": {},
     "output_type": "display_data"
    },
    {
     "data": {
      "text/html": [
       "<pre style=\"white-space:pre;overflow-x:auto;line-height:normal;font-family:Menlo,'DejaVu Sans Mono',consolas,'Courier New',monospace\">vbmqtf:self.<span style=\"color: #808000; text-decoration-color: #808000\">size</span>=<span style=\"color: #008080; text-decoration-color: #008080; font-weight: bold\">151429</span>\n",
       "</pre>\n"
      ],
      "text/plain": [
       "vbmqtf:self.\u001b[33msize\u001b[0m=\u001b[1;36m151429\u001b[0m\n"
      ]
     },
     "metadata": {},
     "output_type": "display_data"
    },
    {
     "data": {
      "text/html": [
       "<pre style=\"white-space:pre;overflow-x:auto;line-height:normal;font-family:Menlo,'DejaVu Sans Mono',consolas,'Courier New',monospace\">qlzg:self.<span style=\"color: #808000; text-decoration-color: #808000\">size</span>=<span style=\"color: #008080; text-decoration-color: #008080; font-weight: bold\">4575664</span>\n",
       "</pre>\n"
      ],
      "text/plain": [
       "qlzg:self.\u001b[33msize\u001b[0m=\u001b[1;36m4575664\u001b[0m\n"
      ]
     },
     "metadata": {},
     "output_type": "display_data"
    },
    {
     "data": {
      "text/html": [
       "<pre style=\"white-space:pre;overflow-x:auto;line-height:normal;font-family:Menlo,'DejaVu Sans Mono',consolas,'Courier New',monospace\">fzjdz:self.<span style=\"color: #808000; text-decoration-color: #808000\">size</span>=<span style=\"color: #008080; text-decoration-color: #008080; font-weight: bold\">153535</span>\n",
       "</pre>\n"
      ],
      "text/plain": [
       "fzjdz:self.\u001b[33msize\u001b[0m=\u001b[1;36m153535\u001b[0m\n"
      ]
     },
     "metadata": {},
     "output_type": "display_data"
    },
    {
     "data": {
      "text/html": [
       "<pre style=\"white-space:pre;overflow-x:auto;line-height:normal;font-family:Menlo,'DejaVu Sans Mono',consolas,'Courier New',monospace\">ghllcw:self.<span style=\"color: #808000; text-decoration-color: #808000\">size</span>=<span style=\"color: #008080; text-decoration-color: #008080; font-weight: bold\">3866390</span>\n",
       "</pre>\n"
      ],
      "text/plain": [
       "ghllcw:self.\u001b[33msize\u001b[0m=\u001b[1;36m3866390\u001b[0m\n"
      ]
     },
     "metadata": {},
     "output_type": "display_data"
    },
    {
     "data": {
      "text/html": [
       "<pre style=\"white-space:pre;overflow-x:auto;line-height:normal;font-family:Menlo,'DejaVu Sans Mono',consolas,'Courier New',monospace\">fzjdz:self.<span style=\"color: #808000; text-decoration-color: #808000\">size</span>=<span style=\"color: #008080; text-decoration-color: #008080; font-weight: bold\">1670945</span>\n",
       "</pre>\n"
      ],
      "text/plain": [
       "fzjdz:self.\u001b[33msize\u001b[0m=\u001b[1;36m1670945\u001b[0m\n"
      ]
     },
     "metadata": {},
     "output_type": "display_data"
    },
    {
     "data": {
      "text/html": [
       "<pre style=\"white-space:pre;overflow-x:auto;line-height:normal;font-family:Menlo,'DejaVu Sans Mono',consolas,'Courier New',monospace\">wtvfgcrq:self.<span style=\"color: #808000; text-decoration-color: #808000\">size</span>=<span style=\"color: #008080; text-decoration-color: #008080; font-weight: bold\">1546025</span>\n",
       "</pre>\n"
      ],
      "text/plain": [
       "wtvfgcrq:self.\u001b[33msize\u001b[0m=\u001b[1;36m1546025\u001b[0m\n"
      ]
     },
     "metadata": {},
     "output_type": "display_data"
    },
    {
     "data": {
      "text/html": [
       "<pre style=\"white-space:pre;overflow-x:auto;line-height:normal;font-family:Menlo,'DejaVu Sans Mono',consolas,'Courier New',monospace\">ltnzjbl:self.<span style=\"color: #808000; text-decoration-color: #808000\">size</span>=<span style=\"color: #008080; text-decoration-color: #008080; font-weight: bold\">404050</span>\n",
       "</pre>\n"
      ],
      "text/plain": [
       "ltnzjbl:self.\u001b[33msize\u001b[0m=\u001b[1;36m404050\u001b[0m\n"
      ]
     },
     "metadata": {},
     "output_type": "display_data"
    },
    {
     "data": {
      "text/html": [
       "<pre style=\"white-space:pre;overflow-x:auto;line-height:normal;font-family:Menlo,'DejaVu Sans Mono',consolas,'Courier New',monospace\">nvgrzrbr:self.<span style=\"color: #808000; text-decoration-color: #808000\">size</span>=<span style=\"color: #008080; text-decoration-color: #008080; font-weight: bold\">590540</span>\n",
       "</pre>\n"
      ],
      "text/plain": [
       "nvgrzrbr:self.\u001b[33msize\u001b[0m=\u001b[1;36m590540\u001b[0m\n"
      ]
     },
     "metadata": {},
     "output_type": "display_data"
    },
    {
     "data": {
      "text/html": [
       "<pre style=\"white-space:pre;overflow-x:auto;line-height:normal;font-family:Menlo,'DejaVu Sans Mono',consolas,'Courier New',monospace\">pngcwl:self.<span style=\"color: #808000; text-decoration-color: #808000\">size</span>=<span style=\"color: #008080; text-decoration-color: #008080; font-weight: bold\">363518</span>\n",
       "</pre>\n"
      ],
      "text/plain": [
       "pngcwl:self.\u001b[33msize\u001b[0m=\u001b[1;36m363518\u001b[0m\n"
      ]
     },
     "metadata": {},
     "output_type": "display_data"
    },
    {
     "data": {
      "text/html": [
       "<pre style=\"white-space:pre;overflow-x:auto;line-height:normal;font-family:Menlo,'DejaVu Sans Mono',consolas,'Courier New',monospace\">hwfm:self.<span style=\"color: #808000; text-decoration-color: #808000\">size</span>=<span style=\"color: #008080; text-decoration-color: #008080; font-weight: bold\">97878</span>\n",
       "</pre>\n"
      ],
      "text/plain": [
       "hwfm:self.\u001b[33msize\u001b[0m=\u001b[1;36m97878\u001b[0m\n"
      ]
     },
     "metadata": {},
     "output_type": "display_data"
    },
    {
     "data": {
      "text/html": [
       "<pre style=\"white-space:pre;overflow-x:auto;line-height:normal;font-family:Menlo,'DejaVu Sans Mono',consolas,'Courier New',monospace\">qbpvrr:self.<span style=\"color: #808000; text-decoration-color: #808000\">size</span>=<span style=\"color: #008080; text-decoration-color: #008080; font-weight: bold\">5248</span>\n",
       "</pre>\n"
      ],
      "text/plain": [
       "qbpvrr:self.\u001b[33msize\u001b[0m=\u001b[1;36m5248\u001b[0m\n"
      ]
     },
     "metadata": {},
     "output_type": "display_data"
    },
    {
     "data": {
      "text/html": [
       "<pre style=\"white-space:pre;overflow-x:auto;line-height:normal;font-family:Menlo,'DejaVu Sans Mono',consolas,'Courier New',monospace\">vlwbhgnv:self.<span style=\"color: #808000; text-decoration-color: #808000\">size</span>=<span style=\"color: #008080; text-decoration-color: #008080; font-weight: bold\">5248</span>\n",
       "</pre>\n"
      ],
      "text/plain": [
       "vlwbhgnv:self.\u001b[33msize\u001b[0m=\u001b[1;36m5248\u001b[0m\n"
      ]
     },
     "metadata": {},
     "output_type": "display_data"
    },
    {
     "data": {
      "text/html": [
       "<pre style=\"white-space:pre;overflow-x:auto;line-height:normal;font-family:Menlo,'DejaVu Sans Mono',consolas,'Courier New',monospace\">mjjj:self.<span style=\"color: #808000; text-decoration-color: #808000\">size</span>=<span style=\"color: #008080; text-decoration-color: #008080; font-weight: bold\">255751</span>\n",
       "</pre>\n"
      ],
      "text/plain": [
       "mjjj:self.\u001b[33msize\u001b[0m=\u001b[1;36m255751\u001b[0m\n"
      ]
     },
     "metadata": {},
     "output_type": "display_data"
    },
    {
     "data": {
      "text/html": [
       "<pre style=\"white-space:pre;overflow-x:auto;line-height:normal;font-family:Menlo,'DejaVu Sans Mono',consolas,'Courier New',monospace\">mlhwcg:self.<span style=\"color: #808000; text-decoration-color: #808000\">size</span>=<span style=\"color: #008080; text-decoration-color: #008080; font-weight: bold\">115287</span>\n",
       "</pre>\n"
      ],
      "text/plain": [
       "mlhwcg:self.\u001b[33msize\u001b[0m=\u001b[1;36m115287\u001b[0m\n"
      ]
     },
     "metadata": {},
     "output_type": "display_data"
    },
    {
     "data": {
      "text/html": [
       "<pre style=\"white-space:pre;overflow-x:auto;line-height:normal;font-family:Menlo,'DejaVu Sans Mono',consolas,'Courier New',monospace\">tchbjclg:self.<span style=\"color: #808000; text-decoration-color: #808000\">size</span>=<span style=\"color: #008080; text-decoration-color: #008080; font-weight: bold\">823942</span>\n",
       "</pre>\n"
      ],
      "text/plain": [
       "tchbjclg:self.\u001b[33msize\u001b[0m=\u001b[1;36m823942\u001b[0m\n"
      ]
     },
     "metadata": {},
     "output_type": "display_data"
    },
    {
     "data": {
      "text/html": [
       "<pre style=\"white-space:pre;overflow-x:auto;line-height:normal;font-family:Menlo,'DejaVu Sans Mono',consolas,'Courier New',monospace\">jgrmrzlh:self.<span style=\"color: #808000; text-decoration-color: #808000\">size</span>=<span style=\"color: #008080; text-decoration-color: #008080; font-weight: bold\">668042</span>\n",
       "</pre>\n"
      ],
      "text/plain": [
       "jgrmrzlh:self.\u001b[33msize\u001b[0m=\u001b[1;36m668042\u001b[0m\n"
      ]
     },
     "metadata": {},
     "output_type": "display_data"
    },
    {
     "data": {
      "text/html": [
       "<pre style=\"white-space:pre;overflow-x:auto;line-height:normal;font-family:Menlo,'DejaVu Sans Mono',consolas,'Courier New',monospace\">mjjj:self.<span style=\"color: #808000; text-decoration-color: #808000\">size</span>=<span style=\"color: #008080; text-decoration-color: #008080; font-weight: bold\">301212</span>\n",
       "</pre>\n"
      ],
      "text/plain": [
       "mjjj:self.\u001b[33msize\u001b[0m=\u001b[1;36m301212\u001b[0m\n"
      ]
     },
     "metadata": {},
     "output_type": "display_data"
    },
    {
     "data": {
      "text/html": [
       "<pre style=\"white-space:pre;overflow-x:auto;line-height:normal;font-family:Menlo,'DejaVu Sans Mono',consolas,'Courier New',monospace\">tqtsl:self.<span style=\"color: #808000; text-decoration-color: #808000\">size</span>=<span style=\"color: #008080; text-decoration-color: #008080; font-weight: bold\">166188</span>\n",
       "</pre>\n"
      ],
      "text/plain": [
       "tqtsl:self.\u001b[33msize\u001b[0m=\u001b[1;36m166188\u001b[0m\n"
      ]
     },
     "metadata": {},
     "output_type": "display_data"
    },
    {
     "data": {
      "text/html": [
       "<pre style=\"white-space:pre;overflow-x:auto;line-height:normal;font-family:Menlo,'DejaVu Sans Mono',consolas,'Courier New',monospace\">vpn:self.<span style=\"color: #808000; text-decoration-color: #808000\">size</span>=<span style=\"color: #008080; text-decoration-color: #008080; font-weight: bold\">286479</span>\n",
       "</pre>\n"
      ],
      "text/plain": [
       "vpn:self.\u001b[33msize\u001b[0m=\u001b[1;36m286479\u001b[0m\n"
      ]
     },
     "metadata": {},
     "output_type": "display_data"
    },
    {
     "data": {
      "text/html": [
       "<pre style=\"white-space:pre;overflow-x:auto;line-height:normal;font-family:Menlo,'DejaVu Sans Mono',consolas,'Courier New',monospace\">qtdh:self.<span style=\"color: #808000; text-decoration-color: #808000\">size</span>=<span style=\"color: #008080; text-decoration-color: #008080; font-weight: bold\">215668</span>\n",
       "</pre>\n"
      ],
      "text/plain": [
       "qtdh:self.\u001b[33msize\u001b[0m=\u001b[1;36m215668\u001b[0m\n"
      ]
     },
     "metadata": {},
     "output_type": "display_data"
    },
    {
     "data": {
      "text/html": [
       "<pre style=\"white-space:pre;overflow-x:auto;line-height:normal;font-family:Menlo,'DejaVu Sans Mono',consolas,'Courier New',monospace\">tbdff:self.<span style=\"color: #808000; text-decoration-color: #808000\">size</span>=<span style=\"color: #008080; text-decoration-color: #008080; font-weight: bold\">226438</span>\n",
       "</pre>\n"
      ],
      "text/plain": [
       "tbdff:self.\u001b[33msize\u001b[0m=\u001b[1;36m226438\u001b[0m\n"
      ]
     },
     "metadata": {},
     "output_type": "display_data"
    },
    {
     "data": {
      "text/html": [
       "<pre style=\"white-space:pre;overflow-x:auto;line-height:normal;font-family:Menlo,'DejaVu Sans Mono',consolas,'Courier New',monospace\">tchbjclg:self.<span style=\"color: #808000; text-decoration-color: #808000\">size</span>=<span style=\"color: #008080; text-decoration-color: #008080; font-weight: bold\">2595684</span>\n",
       "</pre>\n"
      ],
      "text/plain": [
       "tchbjclg:self.\u001b[33msize\u001b[0m=\u001b[1;36m2595684\u001b[0m\n"
      ]
     },
     "metadata": {},
     "output_type": "display_data"
    },
    {
     "data": {
      "text/html": [
       "<pre style=\"white-space:pre;overflow-x:auto;line-height:normal;font-family:Menlo,'DejaVu Sans Mono',consolas,'Courier New',monospace\">bddslhrg:self.<span style=\"color: #808000; text-decoration-color: #808000\">size</span>=<span style=\"color: #008080; text-decoration-color: #008080; font-weight: bold\">1556987</span>\n",
       "</pre>\n"
      ],
      "text/plain": [
       "bddslhrg:self.\u001b[33msize\u001b[0m=\u001b[1;36m1556987\u001b[0m\n"
      ]
     },
     "metadata": {},
     "output_type": "display_data"
    },
    {
     "data": {
      "text/html": [
       "<pre style=\"white-space:pre;overflow-x:auto;line-height:normal;font-family:Menlo,'DejaVu Sans Mono',consolas,'Courier New',monospace\">pqtj:self.<span style=\"color: #808000; text-decoration-color: #808000\">size</span>=<span style=\"color: #008080; text-decoration-color: #008080; font-weight: bold\">158275</span>\n",
       "</pre>\n"
      ],
      "text/plain": [
       "pqtj:self.\u001b[33msize\u001b[0m=\u001b[1;36m158275\u001b[0m\n"
      ]
     },
     "metadata": {},
     "output_type": "display_data"
    },
    {
     "data": {
      "text/html": [
       "<pre style=\"white-space:pre;overflow-x:auto;line-height:normal;font-family:Menlo,'DejaVu Sans Mono',consolas,'Courier New',monospace\">tchbjclg:self.<span style=\"color: #808000; text-decoration-color: #808000\">size</span>=<span style=\"color: #008080; text-decoration-color: #008080; font-weight: bold\">1213170</span>\n",
       "</pre>\n"
      ],
      "text/plain": [
       "tchbjclg:self.\u001b[33msize\u001b[0m=\u001b[1;36m1213170\u001b[0m\n"
      ]
     },
     "metadata": {},
     "output_type": "display_data"
    },
    {
     "data": {
      "text/html": [
       "<pre style=\"white-space:pre;overflow-x:auto;line-height:normal;font-family:Menlo,'DejaVu Sans Mono',consolas,'Courier New',monospace\">btsmnvn:self.<span style=\"color: #808000; text-decoration-color: #808000\">size</span>=<span style=\"color: #008080; text-decoration-color: #008080; font-weight: bold\">355082</span>\n",
       "</pre>\n"
      ],
      "text/plain": [
       "btsmnvn:self.\u001b[33msize\u001b[0m=\u001b[1;36m355082\u001b[0m\n"
      ]
     },
     "metadata": {},
     "output_type": "display_data"
    },
    {
     "data": {
      "text/html": [
       "<pre style=\"white-space:pre;overflow-x:auto;line-height:normal;font-family:Menlo,'DejaVu Sans Mono',consolas,'Courier New',monospace\">bddslhrg:self.<span style=\"color: #808000; text-decoration-color: #808000\">size</span>=<span style=\"color: #008080; text-decoration-color: #008080; font-weight: bold\">144007</span>\n",
       "</pre>\n"
      ],
      "text/plain": [
       "bddslhrg:self.\u001b[33msize\u001b[0m=\u001b[1;36m144007\u001b[0m\n"
      ]
     },
     "metadata": {},
     "output_type": "display_data"
    },
    {
     "data": {
      "text/html": [
       "<pre style=\"white-space:pre;overflow-x:auto;line-height:normal;font-family:Menlo,'DejaVu Sans Mono',consolas,'Courier New',monospace\">qbpvrr:self.<span style=\"color: #808000; text-decoration-color: #808000\">size</span>=<span style=\"color: #008080; text-decoration-color: #008080; font-weight: bold\">211075</span>\n",
       "</pre>\n"
      ],
      "text/plain": [
       "qbpvrr:self.\u001b[33msize\u001b[0m=\u001b[1;36m211075\u001b[0m\n"
      ]
     },
     "metadata": {},
     "output_type": "display_data"
    },
    {
     "data": {
      "text/html": [
       "<pre style=\"white-space:pre;overflow-x:auto;line-height:normal;font-family:Menlo,'DejaVu Sans Mono',consolas,'Courier New',monospace\">cwn:self.<span style=\"color: #808000; text-decoration-color: #808000\">size</span>=<span style=\"color: #008080; text-decoration-color: #008080; font-weight: bold\">299020</span>\n",
       "</pre>\n"
      ],
      "text/plain": [
       "cwn:self.\u001b[33msize\u001b[0m=\u001b[1;36m299020\u001b[0m\n"
      ]
     },
     "metadata": {},
     "output_type": "display_data"
    },
    {
     "data": {
      "text/html": [
       "<pre style=\"white-space:pre;overflow-x:auto;line-height:normal;font-family:Menlo,'DejaVu Sans Mono',consolas,'Courier New',monospace\">qbpvrr:self.<span style=\"color: #808000; text-decoration-color: #808000\">size</span>=<span style=\"color: #008080; text-decoration-color: #008080; font-weight: bold\">457710</span>\n",
       "</pre>\n"
      ],
      "text/plain": [
       "qbpvrr:self.\u001b[33msize\u001b[0m=\u001b[1;36m457710\u001b[0m\n"
      ]
     },
     "metadata": {},
     "output_type": "display_data"
    },
    {
     "data": {
      "text/html": [
       "<pre style=\"white-space:pre;overflow-x:auto;line-height:normal;font-family:Menlo,'DejaVu Sans Mono',consolas,'Courier New',monospace\">scsp:self.<span style=\"color: #808000; text-decoration-color: #808000\">size</span>=<span style=\"color: #008080; text-decoration-color: #008080; font-weight: bold\">30654</span>\n",
       "</pre>\n"
      ],
      "text/plain": [
       "scsp:self.\u001b[33msize\u001b[0m=\u001b[1;36m30654\u001b[0m\n"
      ]
     },
     "metadata": {},
     "output_type": "display_data"
    },
    {
     "data": {
      "text/html": [
       "<pre style=\"white-space:pre;overflow-x:auto;line-height:normal;font-family:Menlo,'DejaVu Sans Mono',consolas,'Courier New',monospace\">hsjww:self.<span style=\"color: #808000; text-decoration-color: #808000\">size</span>=<span style=\"color: #008080; text-decoration-color: #008080; font-weight: bold\">1509327</span>\n",
       "</pre>\n"
      ],
      "text/plain": [
       "hsjww:self.\u001b[33msize\u001b[0m=\u001b[1;36m1509327\u001b[0m\n"
      ]
     },
     "metadata": {},
     "output_type": "display_data"
    },
    {
     "data": {
      "text/html": [
       "<pre style=\"white-space:pre;overflow-x:auto;line-height:normal;font-family:Menlo,'DejaVu Sans Mono',consolas,'Courier New',monospace\">qbpvrr:self.<span style=\"color: #808000; text-decoration-color: #808000\">size</span>=<span style=\"color: #008080; text-decoration-color: #008080; font-weight: bold\">1497094</span>\n",
       "</pre>\n"
      ],
      "text/plain": [
       "qbpvrr:self.\u001b[33msize\u001b[0m=\u001b[1;36m1497094\u001b[0m\n"
      ]
     },
     "metadata": {},
     "output_type": "display_data"
    },
    {
     "data": {
      "text/html": [
       "<pre style=\"white-space:pre;overflow-x:auto;line-height:normal;font-family:Menlo,'DejaVu Sans Mono',consolas,'Courier New',monospace\">bddslhrg:self.<span style=\"color: #808000; text-decoration-color: #808000\">size</span>=<span style=\"color: #008080; text-decoration-color: #008080; font-weight: bold\">561430</span>\n",
       "</pre>\n"
      ],
      "text/plain": [
       "bddslhrg:self.\u001b[33msize\u001b[0m=\u001b[1;36m561430\u001b[0m\n"
      ]
     },
     "metadata": {},
     "output_type": "display_data"
    },
    {
     "data": {
      "text/html": [
       "<pre style=\"white-space:pre;overflow-x:auto;line-height:normal;font-family:Menlo,'DejaVu Sans Mono',consolas,'Courier New',monospace\">mcvbjw:self.<span style=\"color: #808000; text-decoration-color: #808000\">size</span>=<span style=\"color: #008080; text-decoration-color: #008080; font-weight: bold\">149468</span>\n",
       "</pre>\n"
      ],
      "text/plain": [
       "mcvbjw:self.\u001b[33msize\u001b[0m=\u001b[1;36m149468\u001b[0m\n"
      ]
     },
     "metadata": {},
     "output_type": "display_data"
    },
    {
     "data": {
      "text/html": [
       "<pre style=\"white-space:pre;overflow-x:auto;line-height:normal;font-family:Menlo,'DejaVu Sans Mono',consolas,'Courier New',monospace\">nllvlzfr:self.<span style=\"color: #808000; text-decoration-color: #808000\">size</span>=<span style=\"color: #008080; text-decoration-color: #008080; font-weight: bold\">162791</span>\n",
       "</pre>\n"
      ],
      "text/plain": [
       "nllvlzfr:self.\u001b[33msize\u001b[0m=\u001b[1;36m162791\u001b[0m\n"
      ]
     },
     "metadata": {},
     "output_type": "display_data"
    },
    {
     "data": {
      "text/html": [
       "<pre style=\"white-space:pre;overflow-x:auto;line-height:normal;font-family:Menlo,'DejaVu Sans Mono',consolas,'Courier New',monospace\">ptfsh:self.<span style=\"color: #808000; text-decoration-color: #808000\">size</span>=<span style=\"color: #008080; text-decoration-color: #008080; font-weight: bold\">2229740</span>\n",
       "</pre>\n"
      ],
      "text/plain": [
       "ptfsh:self.\u001b[33msize\u001b[0m=\u001b[1;36m2229740\u001b[0m\n"
      ]
     },
     "metadata": {},
     "output_type": "display_data"
    },
    {
     "data": {
      "text/html": [
       "<pre style=\"white-space:pre;overflow-x:auto;line-height:normal;font-family:Menlo,'DejaVu Sans Mono',consolas,'Courier New',monospace\">hthjj:self.<span style=\"color: #808000; text-decoration-color: #808000\">size</span>=<span style=\"color: #008080; text-decoration-color: #008080; font-weight: bold\">406237</span>\n",
       "</pre>\n"
      ],
      "text/plain": [
       "hthjj:self.\u001b[33msize\u001b[0m=\u001b[1;36m406237\u001b[0m\n"
      ]
     },
     "metadata": {},
     "output_type": "display_data"
    },
    {
     "data": {
      "text/html": [
       "<pre style=\"white-space:pre;overflow-x:auto;line-height:normal;font-family:Menlo,'DejaVu Sans Mono',consolas,'Courier New',monospace\">hwpv:self.<span style=\"color: #808000; text-decoration-color: #808000\">size</span>=<span style=\"color: #008080; text-decoration-color: #008080; font-weight: bold\">244334</span>\n",
       "</pre>\n"
      ],
      "text/plain": [
       "hwpv:self.\u001b[33msize\u001b[0m=\u001b[1;36m244334\u001b[0m\n"
      ]
     },
     "metadata": {},
     "output_type": "display_data"
    },
    {
     "data": {
      "text/html": [
       "<pre style=\"white-space:pre;overflow-x:auto;line-height:normal;font-family:Menlo,'DejaVu Sans Mono',consolas,'Courier New',monospace\">rgrcfr:self.<span style=\"color: #808000; text-decoration-color: #808000\">size</span>=<span style=\"color: #008080; text-decoration-color: #008080; font-weight: bold\">87578</span>\n",
       "</pre>\n"
      ],
      "text/plain": [
       "rgrcfr:self.\u001b[33msize\u001b[0m=\u001b[1;36m87578\u001b[0m\n"
      ]
     },
     "metadata": {},
     "output_type": "display_data"
    },
    {
     "data": {
      "text/html": [
       "<pre style=\"white-space:pre;overflow-x:auto;line-height:normal;font-family:Menlo,'DejaVu Sans Mono',consolas,'Courier New',monospace\">wpslpf:self.<span style=\"color: #808000; text-decoration-color: #808000\">size</span>=<span style=\"color: #008080; text-decoration-color: #008080; font-weight: bold\">87578</span>\n",
       "</pre>\n"
      ],
      "text/plain": [
       "wpslpf:self.\u001b[33msize\u001b[0m=\u001b[1;36m87578\u001b[0m\n"
      ]
     },
     "metadata": {},
     "output_type": "display_data"
    },
    {
     "data": {
      "text/html": [
       "<pre style=\"white-space:pre;overflow-x:auto;line-height:normal;font-family:Menlo,'DejaVu Sans Mono',consolas,'Courier New',monospace\">rvrsrfl:self.<span style=\"color: #808000; text-decoration-color: #808000\">size</span>=<span style=\"color: #008080; text-decoration-color: #008080; font-weight: bold\">545286</span>\n",
       "</pre>\n"
      ],
      "text/plain": [
       "rvrsrfl:self.\u001b[33msize\u001b[0m=\u001b[1;36m545286\u001b[0m\n"
      ]
     },
     "metadata": {},
     "output_type": "display_data"
    },
    {
     "data": {
      "text/html": [
       "<pre style=\"white-space:pre;overflow-x:auto;line-height:normal;font-family:Menlo,'DejaVu Sans Mono',consolas,'Courier New',monospace\">qbpvrr:self.<span style=\"color: #808000; text-decoration-color: #808000\">size</span>=<span style=\"color: #008080; text-decoration-color: #008080; font-weight: bold\">545286</span>\n",
       "</pre>\n"
      ],
      "text/plain": [
       "qbpvrr:self.\u001b[33msize\u001b[0m=\u001b[1;36m545286\u001b[0m\n"
      ]
     },
     "metadata": {},
     "output_type": "display_data"
    },
    {
     "data": {
      "text/html": [
       "<pre style=\"white-space:pre;overflow-x:auto;line-height:normal;font-family:Menlo,'DejaVu Sans Mono',consolas,'Courier New',monospace\">gqv:self.<span style=\"color: #808000; text-decoration-color: #808000\">size</span>=<span style=\"color: #008080; text-decoration-color: #008080; font-weight: bold\">229300</span>\n",
       "</pre>\n"
      ],
      "text/plain": [
       "gqv:self.\u001b[33msize\u001b[0m=\u001b[1;36m229300\u001b[0m\n"
      ]
     },
     "metadata": {},
     "output_type": "display_data"
    },
    {
     "data": {
      "text/html": [
       "<pre style=\"white-space:pre;overflow-x:auto;line-height:normal;font-family:Menlo,'DejaVu Sans Mono',consolas,'Courier New',monospace\">hfg:self.<span style=\"color: #808000; text-decoration-color: #808000\">size</span>=<span style=\"color: #008080; text-decoration-color: #008080; font-weight: bold\">1680</span>\n",
       "</pre>\n"
      ],
      "text/plain": [
       "hfg:self.\u001b[33msize\u001b[0m=\u001b[1;36m1680\u001b[0m\n"
      ]
     },
     "metadata": {},
     "output_type": "display_data"
    },
    {
     "data": {
      "text/html": [
       "<pre style=\"white-space:pre;overflow-x:auto;line-height:normal;font-family:Menlo,'DejaVu Sans Mono',consolas,'Courier New',monospace\">lpbc:self.<span style=\"color: #808000; text-decoration-color: #808000\">size</span>=<span style=\"color: #008080; text-decoration-color: #008080; font-weight: bold\">188528</span>\n",
       "</pre>\n"
      ],
      "text/plain": [
       "lpbc:self.\u001b[33msize\u001b[0m=\u001b[1;36m188528\u001b[0m\n"
      ]
     },
     "metadata": {},
     "output_type": "display_data"
    },
    {
     "data": {
      "text/html": [
       "<pre style=\"white-space:pre;overflow-x:auto;line-height:normal;font-family:Menlo,'DejaVu Sans Mono',consolas,'Courier New',monospace\">ppp:self.<span style=\"color: #808000; text-decoration-color: #808000\">size</span>=<span style=\"color: #008080; text-decoration-color: #008080; font-weight: bold\">79608</span>\n",
       "</pre>\n"
      ],
      "text/plain": [
       "ppp:self.\u001b[33msize\u001b[0m=\u001b[1;36m79608\u001b[0m\n"
      ]
     },
     "metadata": {},
     "output_type": "display_data"
    },
    {
     "data": {
      "text/html": [
       "<pre style=\"white-space:pre;overflow-x:auto;line-height:normal;font-family:Menlo,'DejaVu Sans Mono',consolas,'Courier New',monospace\">qbpvrr:self.<span style=\"color: #808000; text-decoration-color: #808000\">size</span>=<span style=\"color: #008080; text-decoration-color: #008080; font-weight: bold\">22955</span>\n",
       "</pre>\n"
      ],
      "text/plain": [
       "qbpvrr:self.\u001b[33msize\u001b[0m=\u001b[1;36m22955\u001b[0m\n"
      ]
     },
     "metadata": {},
     "output_type": "display_data"
    },
    {
     "data": {
      "text/html": [
       "<pre style=\"white-space:pre;overflow-x:auto;line-height:normal;font-family:Menlo,'DejaVu Sans Mono',consolas,'Courier New',monospace\">wtm:self.<span style=\"color: #808000; text-decoration-color: #808000\">size</span>=<span style=\"color: #008080; text-decoration-color: #008080; font-weight: bold\">4584</span>\n",
       "</pre>\n"
      ],
      "text/plain": [
       "wtm:self.\u001b[33msize\u001b[0m=\u001b[1;36m4584\u001b[0m\n"
      ]
     },
     "metadata": {},
     "output_type": "display_data"
    },
    {
     "data": {
      "text/html": [
       "<pre style=\"white-space:pre;overflow-x:auto;line-height:normal;font-family:Menlo,'DejaVu Sans Mono',consolas,'Courier New',monospace\">ztrz:self.<span style=\"color: #808000; text-decoration-color: #808000\">size</span>=<span style=\"color: #008080; text-decoration-color: #008080; font-weight: bold\">187968</span>\n",
       "</pre>\n"
      ],
      "text/plain": [
       "ztrz:self.\u001b[33msize\u001b[0m=\u001b[1;36m187968\u001b[0m\n"
      ]
     },
     "metadata": {},
     "output_type": "display_data"
    },
    {
     "data": {
      "text/html": [
       "<pre style=\"white-space:pre;overflow-x:auto;line-height:normal;font-family:Menlo,'DejaVu Sans Mono',consolas,'Courier New',monospace\"><span style=\"color: #008080; text-decoration-color: #008080; font-weight: bold\">1297159</span>\n",
       "</pre>\n"
      ],
      "text/plain": [
       "\u001b[1;36m1297159\u001b[0m\n"
      ]
     },
     "metadata": {},
     "output_type": "display_data"
    },
    {
     "data": {
      "text/html": [
       "<pre style=\"white-space:pre;overflow-x:auto;line-height:normal;font-family:Menlo,'DejaVu Sans Mono',consolas,'Courier New',monospace\">Which file to deteles size:\n",
       "</pre>\n"
      ],
      "text/plain": [
       "Which file to deteles size:\n"
      ]
     },
     "metadata": {},
     "output_type": "display_data"
    },
    {
     "data": {
      "text/html": [
       "<pre style=\"white-space:pre;overflow-x:auto;line-height:normal;font-family:Menlo,'DejaVu Sans Mono',consolas,'Courier New',monospace\"><span style=\"color: #808000; text-decoration-color: #808000\">free</span>=<span style=\"color: #008080; text-decoration-color: #008080; font-weight: bold\">26363334</span>,<span style=\"color: #008080; text-decoration-color: #008080; font-weight: bold\">30000000</span>, <span style=\"color: #808000; text-decoration-color: #808000\">freeup</span>=<span style=\"color: #008080; text-decoration-color: #008080; font-weight: bold\">3636666</span>\n",
       "</pre>\n"
      ],
      "text/plain": [
       "\u001b[33mfree\u001b[0m=\u001b[1;36m26363334\u001b[0m,\u001b[1;36m30000000\u001b[0m, \u001b[33mfreeup\u001b[0m=\u001b[1;36m3636666\u001b[0m\n"
      ]
     },
     "metadata": {},
     "output_type": "display_data"
    },
    {
     "data": {
      "text/html": [
       "<pre style=\"white-space:pre;overflow-x:auto;line-height:normal;font-family:Menlo,'DejaVu Sans Mono',consolas,'Courier New',monospace\"><span style=\"color: #008080; text-decoration-color: #008080; font-weight: bold\">3866390</span>\n",
       "</pre>\n"
      ],
      "text/plain": [
       "\u001b[1;36m3866390\u001b[0m\n"
      ]
     },
     "metadata": {},
     "output_type": "display_data"
    }
   ],
   "source": [
    "data = RAWDATA.split(\"$ \")[1:]\n",
    "values_less_than_100_000 = []\n",
    "size_dict = {}\n",
    "my_data = iter(data)\n",
    "_ = next(my_data)\n",
    "my_tree = Dir(\"/\")\n",
    "\n",
    "buildtree(my_tree)\n",
    "# print(my_tree)\n",
    "my_tree.walk()\n",
    "my_tree.gets()\n",
    "print(sum(values_less_than_100_000))\n",
    "\n",
    "print(\"Which file to deteles size:\")\n",
    "next_smallest(size_dict)"
   ]
  },
  {
   "cell_type": "code",
   "execution_count": null,
   "metadata": {},
   "outputs": [],
   "source": []
  },
  {
   "cell_type": "markdown",
   "metadata": {},
   "source": []
  }
 ],
 "metadata": {
  "kernelspec": {
   "display_name": "Python 3.10.6 ('fastapi')",
   "language": "python",
   "name": "python3"
  },
  "language_info": {
   "codemirror_mode": {
    "name": "ipython",
    "version": 3
   },
   "file_extension": ".py",
   "mimetype": "text/x-python",
   "name": "python",
   "nbconvert_exporter": "python",
   "pygments_lexer": "ipython3",
   "version": "3.10.6"
  },
  "orig_nbformat": 4,
  "vscode": {
   "interpreter": {
    "hash": "e4e1e39e4664e95e14d973c280adcfa914a83d470be5ac0a94b8bd8f3fc29151"
   }
  }
 },
 "nbformat": 4,
 "nbformat_minor": 2
}
