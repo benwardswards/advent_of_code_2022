{
 "cells": [
  {
   "cell_type": "code",
   "execution_count": 1,
   "metadata": {},
   "outputs": [],
   "source": [
    "%load_ext lab_black\n",
    "from rich import print, traceback\n",
    "from pathlib import Path\n",
    "from dataclasses import dataclass\n",
    "\n",
    "traceback.install()\n",
    "\n",
    "RAWDATA = Path(\"day06.txt\").read_text()\n",
    "RAWTESTDATA5 = \"bvwbjplbgvbhsrlpgdmjqwftvncz\"\n",
    "RAWTESTDATA6 = \"nppdvjthqldpwncqszvftbrmjlhg\"\n",
    "RAWTESTDATA10 = \"nznrnfrfntjfmvfwmzdfjlvtqnbhcprsg\"\n",
    "RAWTESTDATA11 = \"zcfzfwzzqfrljwzlrfnpqdbhtmscgvjw\""
   ]
  },
  {
   "cell_type": "code",
   "execution_count": 16,
   "metadata": {},
   "outputs": [],
   "source": [
    "def start_of_packet(data: str):\n",
    "    for i in range(len(data) - 3):\n",
    "        if len(set(data[i : (i + 4)])) == 4:\n",
    "            return i + 4\n",
    "\n",
    "    raise NotImplemented\n",
    "\n",
    "assert start_of_packet(RAWTESTDATA10) == 10\n",
    "assert start_of_packet(RAWTESTDATA11) == 11\n",
    "\n",
    "assert start_of_packet(RAWTESTDATA5) == 5\n",
    "assert start_of_packet(RAWTESTDATA6) == 6"
   ]
  },
  {
   "cell_type": "code",
   "execution_count": 12,
   "metadata": {},
   "outputs": [
    {
     "data": {
      "text/plain": [
       "{3, 4, 5, 6}"
      ]
     },
     "execution_count": 12,
     "metadata": {},
     "output_type": "execute_result"
    }
   ],
   "source": [
    "set(list(range(10))[3:7])"
   ]
  },
  {
   "cell_type": "code",
   "execution_count": 17,
   "metadata": {},
   "outputs": [
    {
     "data": {
      "text/plain": [
       "1134"
      ]
     },
     "execution_count": 17,
     "metadata": {},
     "output_type": "execute_result"
    }
   ],
   "source": [
    "start_of_packet(RAWDATA)"
   ]
  },
  {
   "cell_type": "code",
   "execution_count": 37,
   "metadata": {},
   "outputs": [],
   "source": [
    "def start_of_message(data: str):\n",
    "    for i in range(len(data) - 13):\n",
    "        if len(set(data[i : (i + 14)])) == 14:\n",
    "            return i + 14\n",
    "\n",
    "    raise NotImplementedError(\" program should have ended without getting here\")\n",
    "\n",
    "\n",
    "assert start_of_message(\"mjqjpqmgbljsphdztnvjfqwrcgsmlb\") == 19\n",
    "assert start_of_message(RAWTESTDATA10) == 29\n",
    "assert start_of_message(RAWTESTDATA11) == 26\n",
    "\n",
    "assert start_of_message(RAWTESTDATA5) == 23\n",
    "assert start_of_message(RAWTESTDATA6) == 23"
   ]
  },
  {
   "cell_type": "code",
   "execution_count": 35,
   "metadata": {},
   "outputs": [
    {
     "data": {
      "text/plain": [
       "2263"
      ]
     },
     "execution_count": 35,
     "metadata": {},
     "output_type": "execute_result"
    }
   ],
   "source": [
    "start_of_message(RAWDATA)"
   ]
  },
  {
   "cell_type": "code",
   "execution_count": null,
   "metadata": {},
   "outputs": [],
   "source": []
  }
 ],
 "metadata": {
  "kernelspec": {
   "display_name": "Python 3.10.6 ('fastapi')",
   "language": "python",
   "name": "python3"
  },
  "language_info": {
   "codemirror_mode": {
    "name": "ipython",
    "version": 3
   },
   "file_extension": ".py",
   "mimetype": "text/x-python",
   "name": "python",
   "nbconvert_exporter": "python",
   "pygments_lexer": "ipython3",
   "version": "3.10.6"
  },
  "orig_nbformat": 4,
  "vscode": {
   "interpreter": {
    "hash": "e4e1e39e4664e95e14d973c280adcfa914a83d470be5ac0a94b8bd8f3fc29151"
   }
  }
 },
 "nbformat": 4,
 "nbformat_minor": 2
}
