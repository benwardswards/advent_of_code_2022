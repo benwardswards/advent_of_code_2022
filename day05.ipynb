{
 "cells": [
  {
   "cell_type": "code",
   "execution_count": 3,
   "metadata": {},
   "outputs": [
    {
     "name": "stdout",
     "output_type": "stream",
     "text": [
      "The lab_black extension is already loaded. To reload it, use:\n",
      "  %reload_ext lab_black\n"
     ]
    }
   ],
   "source": [
    "%load_ext lab_black\n",
    "from rich import print, traceback\n",
    "from pathlib import Path\n",
    "from dataclasses import dataclass\n",
    "\n",
    "traceback.install()\n",
    "\n",
    "RAWDATA = Path(\"day05.txt\").read_text()\n",
    "\n",
    "RAWTESTDATA = \"\"\"\\\n",
    "    [D]    \n",
    "[N] [C]    \n",
    "[Z] [M] [P]\n",
    " 1   2   3 \n",
    "\n",
    "move 1 from 2 to 1\n",
    "move 3 from 1 to 3\n",
    "move 2 from 2 to 1\n",
    "move 1 from 1 to 2\"\"\""
   ]
  },
  {
   "cell_type": "code",
   "execution_count": 49,
   "metadata": {},
   "outputs": [
    {
     "data": {
      "text/html": [
       "<pre style=\"white-space:pre;overflow-x:auto;line-height:normal;font-family:Menlo,'DejaVu Sans Mono',consolas,'Courier New',monospace\"><span style=\"color: #800080; text-decoration-color: #800080; font-weight: bold\">Ins</span><span style=\"font-weight: bold\">(</span><span style=\"color: #808000; text-decoration-color: #808000\">move</span>=<span style=\"color: #008080; text-decoration-color: #008080; font-weight: bold\">4</span>, <span style=\"color: #808000; text-decoration-color: #808000\">fro</span>=<span style=\"color: #008080; text-decoration-color: #008080; font-weight: bold\">1</span>, <span style=\"color: #808000; text-decoration-color: #808000\">to</span>=<span style=\"color: #008080; text-decoration-color: #008080; font-weight: bold\">3</span><span style=\"font-weight: bold\">)</span>\n",
       "</pre>\n"
      ],
      "text/plain": [
       "\u001b[1;35mIns\u001b[0m\u001b[1m(\u001b[0m\u001b[33mmove\u001b[0m=\u001b[1;36m4\u001b[0m, \u001b[33mfro\u001b[0m=\u001b[1;36m1\u001b[0m, \u001b[33mto\u001b[0m=\u001b[1;36m3\u001b[0m\u001b[1m)\u001b[0m\n"
      ]
     },
     "metadata": {},
     "output_type": "display_data"
    },
    {
     "data": {
      "text/html": [
       "<pre style=\"white-space:pre;overflow-x:auto;line-height:normal;font-family:Menlo,'DejaVu Sans Mono',consolas,'Courier New',monospace\"><span style=\"color: #808000; text-decoration-color: #808000\">num_crates</span>=<span style=\"color: #008080; text-decoration-color: #008080; font-weight: bold\">3</span>\n",
       "</pre>\n"
      ],
      "text/plain": [
       "\u001b[33mnum_crates\u001b[0m=\u001b[1;36m3\u001b[0m\n"
      ]
     },
     "metadata": {},
     "output_type": "display_data"
    },
    {
     "data": {
      "text/plain": [
       "'CMZ'"
      ]
     },
     "execution_count": 49,
     "metadata": {},
     "output_type": "execute_result"
    }
   ],
   "source": [
    "@dataclass\n",
    "class Ins:\n",
    "    move: int\n",
    "    fro: int\n",
    "    to: int\n",
    "\n",
    "\n",
    "assert Ins(0, 1, 2).to == 2\n",
    "assert Ins(0, 1, 2).fro == 1\n",
    "assert Ins(*[0, 1, 2]).move == 0\n",
    "\n",
    "\n",
    "def process_ins(instruc_str: str):\n",
    "    return Ins(\n",
    "        int(instruc_str.split(\" \")[1]),\n",
    "        int(instruc_str.split(\" \")[3]),\n",
    "        int(instruc_str.split(\" \")[5]),\n",
    "    )\n",
    "\n",
    "\n",
    "def process_crate(crate_str: str):\n",
    "    crate_lines = crate_str.splitlines()\n",
    "    nums = crate_lines.pop()\n",
    "    crates = {int(num): list() for num in nums.split(\" \") if num != \"\"}\n",
    "    num_crates = max(crates.keys())\n",
    "    print(f\"{num_crates=}\")\n",
    "\n",
    "    for line in crate_lines[::-1]:\n",
    "        for i, char in enumerate(line):\n",
    "            if (i - 1) % 4 == 0:\n",
    "                index = (i + 3) // 4\n",
    "                if char != \" \":\n",
    "                    crates[index].append(char)\n",
    "\n",
    "    return crates\n",
    "\n",
    "\n",
    "print(process_ins(\"move 4 from 1 to 3\"))\n",
    "\n",
    "\n",
    "@dataclass\n",
    "class Crate:\n",
    "    instructions: list[Ins]\n",
    "    crates: dict[int : list[str]]\n",
    "\n",
    "    def __init__(self, rawdata):\n",
    "        crates, instructions = rawdata.split(\"\\n\\n\")\n",
    "        self.instructions = [process_ins(ins) for ins in instructions.splitlines()]\n",
    "        self.crates = process_crate(crates)\n",
    "\n",
    "    def move(self, ins):\n",
    "        for _ in range(ins.move):\n",
    "            self.crates[ins.to].append(self.crates[ins.fro].pop())\n",
    "\n",
    "    def move_stack(self, ins):\n",
    "        temp = []\n",
    "        for _ in range(ins.move):\n",
    "            temp.append(self.crates[ins.fro].pop())\n",
    "        for _ in range(ins.move):\n",
    "            self.crates[ins.to].append(temp.pop())\n",
    "\n",
    "    def process(self):\n",
    "        for ins in self.instructions:\n",
    "            self.move(ins)\n",
    "            # print(self)\n",
    "\n",
    "        return \"\".join(crate[-1] for crate in self.crates.values())\n",
    "\n",
    "    def process_as_stack(self):\n",
    "        for ins in self.instructions:\n",
    "            self.move_stack(ins)\n",
    "            # print(self)\n",
    "\n",
    "        return \"\".join(crate[-1] for crate in self.crates.values())\n",
    "\n",
    "\n",
    "test_crate = Crate(RAWTESTDATA)\n",
    "test_crate.process()"
   ]
  },
  {
   "cell_type": "code",
   "execution_count": 50,
   "metadata": {},
   "outputs": [
    {
     "data": {
      "text/html": [
       "<pre style=\"white-space:pre;overflow-x:auto;line-height:normal;font-family:Menlo,'DejaVu Sans Mono',consolas,'Courier New',monospace\"><span style=\"color: #808000; text-decoration-color: #808000\">num_crates</span>=<span style=\"color: #008080; text-decoration-color: #008080; font-weight: bold\">9</span>\n",
       "</pre>\n"
      ],
      "text/plain": [
       "\u001b[33mnum_crates\u001b[0m=\u001b[1;36m9\u001b[0m\n"
      ]
     },
     "metadata": {},
     "output_type": "display_data"
    },
    {
     "data": {
      "text/plain": [
       "'VWLCWGSDQ'"
      ]
     },
     "execution_count": 50,
     "metadata": {},
     "output_type": "execute_result"
    }
   ],
   "source": [
    "test_crate = Crate(RAWDATA)\n",
    "test_crate.process()"
   ]
  },
  {
   "cell_type": "code",
   "execution_count": 47,
   "metadata": {},
   "outputs": [
    {
     "data": {
      "text/html": [
       "<pre style=\"white-space:pre;overflow-x:auto;line-height:normal;font-family:Menlo,'DejaVu Sans Mono',consolas,'Courier New',monospace\"><span style=\"color: #808000; text-decoration-color: #808000\">num_crates</span>=<span style=\"color: #008080; text-decoration-color: #008080; font-weight: bold\">3</span>\n",
       "</pre>\n"
      ],
      "text/plain": [
       "\u001b[33mnum_crates\u001b[0m=\u001b[1;36m3\u001b[0m\n"
      ]
     },
     "metadata": {},
     "output_type": "display_data"
    },
    {
     "data": {
      "text/plain": [
       "'MCD'"
      ]
     },
     "execution_count": 47,
     "metadata": {},
     "output_type": "execute_result"
    }
   ],
   "source": [
    "test_crate = Crate(RAWTESTDATA)\n",
    "test_crate.process()"
   ]
  },
  {
   "cell_type": "code",
   "execution_count": 51,
   "metadata": {},
   "outputs": [
    {
     "data": {
      "text/html": [
       "<pre style=\"white-space:pre;overflow-x:auto;line-height:normal;font-family:Menlo,'DejaVu Sans Mono',consolas,'Courier New',monospace\"><span style=\"color: #808000; text-decoration-color: #808000\">num_crates</span>=<span style=\"color: #008080; text-decoration-color: #008080; font-weight: bold\">9</span>\n",
       "</pre>\n"
      ],
      "text/plain": [
       "\u001b[33mnum_crates\u001b[0m=\u001b[1;36m9\u001b[0m\n"
      ]
     },
     "metadata": {},
     "output_type": "display_data"
    },
    {
     "data": {
      "text/plain": [
       "'TCGLQSLPW'"
      ]
     },
     "execution_count": 51,
     "metadata": {},
     "output_type": "execute_result"
    }
   ],
   "source": [
    "test_crate = Crate(RAWDATA)\n",
    "test_crate.process_as_stack()"
   ]
  },
  {
   "cell_type": "code",
   "execution_count": null,
   "metadata": {},
   "outputs": [],
   "source": []
  }
 ],
 "metadata": {
  "kernelspec": {
   "display_name": "Python 3.10.6 ('fastapi')",
   "language": "python",
   "name": "python3"
  },
  "language_info": {
   "codemirror_mode": {
    "name": "ipython",
    "version": 3
   },
   "file_extension": ".py",
   "mimetype": "text/x-python",
   "name": "python",
   "nbconvert_exporter": "python",
   "pygments_lexer": "ipython3",
   "version": "3.10.6"
  },
  "orig_nbformat": 4,
  "vscode": {
   "interpreter": {
    "hash": "e4e1e39e4664e95e14d973c280adcfa914a83d470be5ac0a94b8bd8f3fc29151"
   }
  }
 },
 "nbformat": 4,
 "nbformat_minor": 2
}
